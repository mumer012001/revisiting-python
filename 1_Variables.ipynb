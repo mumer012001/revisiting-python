{
 "cells": [
  {
   "attachments": {},
   "cell_type": "markdown",
   "metadata": {},
   "source": [
    "# **Variables**\n",
    "In Python, variables are used to store and represent data. They act as placeholders to hold values that can be accessed, modified, and used throughout the program. Unlike some other programming languages, Python is dynamically typed, meaning you don't need to declare the data type explicitly when defining a variable. The interpreter determines the data type automatically based on the value assigned to the variable."
   ]
  },
  {
   "attachments": {},
   "cell_type": "markdown",
   "metadata": {},
   "source": [
    "## **How To Use Variables In Python**"
   ]
  },
  {
   "attachments": {},
   "cell_type": "markdown",
   "metadata": {},
   "source": [
    "### **Variable Declaration:**\n",
    "To create a variable, you simply assign a value to a name (variable identifier) using the '=' sign. For example:"
   ]
  },
  {
   "cell_type": "code",
   "execution_count": 74,
   "metadata": {},
   "outputs": [],
   "source": [
    "age = 16\n",
    "name = \"Umer\""
   ]
  },
  {
   "attachments": {},
   "cell_type": "markdown",
   "metadata": {},
   "source": [
    "### **Variable Naming Rules:**\n",
    "Variable names must start with a letter (a-z, A-Z) or an underscore (_) and can be followed by letters, numbers, or underscores. Variable names are case-sensitive, so myVar, myvar, and MYVAR are treated as different variables."
   ]
  },
  {
   "cell_type": "code",
   "execution_count": 75,
   "metadata": {},
   "outputs": [
    {
     "ename": "SyntaxError",
     "evalue": "invalid decimal literal (24522177.py, line 5)",
     "output_type": "error",
     "traceback": [
      "\u001b[1;36m  Cell \u001b[1;32mIn[75], line 5\u001b[1;36m\u001b[0m\n\u001b[1;33m    1age = 16 # incorrect (can't start with number)\u001b[0m\n\u001b[1;37m    ^\u001b[0m\n\u001b[1;31mSyntaxError\u001b[0m\u001b[1;31m:\u001b[0m invalid decimal literal\n"
     ]
    }
   ],
   "source": [
    "\n",
    "age = 16 # correct\n",
    "_Age = 16 # correct\n",
    "AGE1 = 16 # correct\n",
    "aGe_1 = 16 # correct\n",
    "1age = 16 # incorrect (can't start with number)\n",
    "-age = 16 # incorrect (can't start with special character)"
   ]
  },
  {
   "attachments": {},
   "cell_type": "markdown",
   "metadata": {},
   "source": [
    "### **Reserved Keywords:**\n",
    "You cannot use Python's reserved keywords as variable names because they have predefined meanings in the language. Some examples of reserved keywords are if, else, while, for, def, class, True, False, and None."
   ]
  },
  {
   "cell_type": "code",
   "execution_count": 76,
   "metadata": {},
   "outputs": [
    {
     "ename": "SyntaxError",
     "evalue": "cannot assign to True (1807168869.py, line 2)",
     "output_type": "error",
     "traceback": [
      "\u001b[1;36m  Cell \u001b[1;32mIn[76], line 2\u001b[1;36m\u001b[0m\n\u001b[1;33m    True = 16 # incorrect\u001b[0m\n\u001b[1;37m    ^\u001b[0m\n\u001b[1;31mSyntaxError\u001b[0m\u001b[1;31m:\u001b[0m cannot assign to True\n"
     ]
    }
   ],
   "source": [
    "#Examples\n",
    "True = 16 # incorrect\n",
    "False = 16 # incorrect\n",
    "None = 16 # incorrect\n",
    "if = 16 # incorrect"
   ]
  },
  {
   "attachments": {},
   "cell_type": "markdown",
   "metadata": {},
   "source": [
    "### **Variable Scope:**\n",
    "The scope of a variable determines where it is accessible in the code. Variables defined inside a function are considered local to that function, while variables defined outside functions have global scope."
   ]
  },
  {
   "cell_type": "code",
   "execution_count": 77,
   "metadata": {},
   "outputs": [
    {
     "name": "stdout",
     "output_type": "stream",
     "text": [
      "The value of global x: 200\n",
      "The value of local x: 300\n"
     ]
    }
   ],
   "source": [
    "#Example\n",
    "x = 200 # global scope\n",
    "print(\"The value of global x:\",x) # value will be printed 200\n",
    "def num():\n",
    "    x = 300 # local scope\n",
    "    print(\"The value of local x:\",x) # value will be printed 300\n",
    "num()"
   ]
  },
  {
   "attachments": {},
   "cell_type": "markdown",
   "metadata": {},
   "source": [
    "### **Data Types:**\n",
    "Python variables can hold various data types, such as integers, floats, strings, booleans, lists, tuples, dictionaries, etc. Since Python is dynamically typed, you can reassign a variable to a different data type at any time:"
   ]
  },
  {
   "cell_type": "code",
   "execution_count": 78,
   "metadata": {},
   "outputs": [],
   "source": [
    "x = 5         # x is an integer\n",
    "y = 3.14      # y is a float\n",
    "name = \"Umer Mansoor\"  # name is a string\n",
    "is_valid = True  # is_valid is a boolean"
   ]
  },
  {
   "attachments": {},
   "cell_type": "markdown",
   "metadata": {},
   "source": [
    "### **Updating Variables:**\n",
    "You can update the value of a variable by reassigning it with a new value:"
   ]
  },
  {
   "cell_type": "code",
   "execution_count": 79,
   "metadata": {},
   "outputs": [
    {
     "data": {
      "text/plain": [
       "15"
      ]
     },
     "execution_count": 79,
     "metadata": {},
     "output_type": "execute_result"
    }
   ],
   "source": [
    "x = 10\n",
    "x = x + 5   # Now x holds the value 15\n",
    "x #If using jupyter notebook, this will print the value of x, else use print(x) to print the value of x"
   ]
  },
  {
   "attachments": {},
   "cell_type": "markdown",
   "metadata": {},
   "source": [
    "### **Printing Variables:**\n",
    "You can use the print() function to display the value of a variable or any other text in the console:"
   ]
  },
  {
   "cell_type": "code",
   "execution_count": 80,
   "metadata": {},
   "outputs": [
    {
     "name": "stdout",
     "output_type": "stream",
     "text": [
      "Hello, Umer\n"
     ]
    }
   ],
   "source": [
    "name = \"Umer\"\n",
    "print(\"Hello, \" + name)   # Output: Hello, Umer"
   ]
  },
  {
   "attachments": {},
   "cell_type": "markdown",
   "metadata": {},
   "source": [
    "## **Exercises for Variables**"
   ]
  },
  {
   "attachments": {},
   "cell_type": "markdown",
   "metadata": {},
   "source": [
    "### **Exercise 1: Variable Swap**\n",
    "Create two variables, x and y, and swap their values without using a third variable."
   ]
  },
  {
   "cell_type": "code",
   "execution_count": 81,
   "metadata": {},
   "outputs": [
    {
     "name": "stdout",
     "output_type": "stream",
     "text": [
      "The value of x before swapping: 5\n",
      "The value of y before swapping: 20\n",
      "The value of x after swapping: 20\n",
      "The value of y after swapping: 5\n"
     ]
    }
   ],
   "source": [
    "x = 5\n",
    "print(\"The value of x before swapping:\", x)\n",
    "y = 20\n",
    "z = 100\n",
    "print(\"The value of y before swapping:\", y)\n",
    "x, y = y, x\n",
    "print(\"The value of x after swapping:\", x)\n",
    "print(\"The value of y after swapping:\", y)"
   ]
  },
  {
   "attachments": {},
   "cell_type": "markdown",
   "metadata": {},
   "source": [
    "### **Exercise 2: Variable Reassignment**\n",
    "Create a variable num and assign it an integer value. Then reassign it to a new value of a different data type, like a string or a floating-point number."
   ]
  },
  {
   "cell_type": "code",
   "execution_count": 82,
   "metadata": {},
   "outputs": [
    {
     "name": "stdout",
     "output_type": "stream",
     "text": [
      "Type of num before reassignment is: <class 'int'>\n",
      "Type of num after reassignment is: <class 'str'>\n"
     ]
    }
   ],
   "source": [
    "num = 5\n",
    "print(\"Type of num before reassignment is:\",type(num))   # Output: <class 'int'>\n",
    "num = \"Five\"\n",
    "print(\"Type of num after reassignment is:\",type(num))   # Output: <class 'str'>"
   ]
  },
  {
   "attachments": {},
   "cell_type": "markdown",
   "metadata": {},
   "source": [
    "### **Exercise 3: Variable Concatenation**\n",
    "Create two variables first_name and last_name, and store your first name and last name in them, respectively. Then, create a third variable full_name by concatenating the first two variables with a space in between."
   ]
  },
  {
   "cell_type": "code",
   "execution_count": 83,
   "metadata": {},
   "outputs": [
    {
     "name": "stdout",
     "output_type": "stream",
     "text": [
      "Umer Mansoor\n"
     ]
    }
   ],
   "source": [
    "first_name = \"Umer\"\n",
    "last_name = \"Mansoor\"\n",
    "full_name = first_name + \" \" + last_name\n",
    "print(full_name) # Output: Umer Mansoor"
   ]
  },
  {
   "attachments": {},
   "cell_type": "markdown",
   "metadata": {},
   "source": [
    "### **Exercise 4: Multiple Assignments**\n",
    "Create three variables a, b, and c, and assign them the same initial value. Then, update the value of each variable individually to different values."
   ]
  },
  {
   "cell_type": "code",
   "execution_count": 84,
   "metadata": {},
   "outputs": [
    {
     "name": "stdout",
     "output_type": "stream",
     "text": [
      "The value of a, b, c is respectively: 10 10 10\n",
      "The value of a, b, c is respectively: 20 30 40\n",
      "The value of a, b, c is respectively: 10 20 30\n"
     ]
    }
   ],
   "source": [
    "a = b = c = 10\n",
    "print(\"The value of a, b, c is respectively:\",a ,b, c) # Output: 10\n",
    "a = 20\n",
    "b = 30\n",
    "c = 40\n",
    "print(\"The value of a, b, c is respectively:\",a ,b, c) # Output: 20 30 40\n",
    "# we can also assign multiple variables with multiple values\n",
    "a, b, c = 10, 20, 30\n",
    "print(\"The value of a, b, c is respectively:\",a ,b, c) # Output: 10 20 30"
   ]
  },
  {
   "attachments": {},
   "cell_type": "markdown",
   "metadata": {},
   "source": [
    "### **Exercise 5: Variable Conversion**\n",
    "Create a variable num_string and assign it a string containing a numeric value. Convert it to an integer and store the result in a new variable num_int. Then, convert num_int back to a string and store it in another variable num_string_again."
   ]
  },
  {
   "cell_type": "code",
   "execution_count": 85,
   "metadata": {},
   "outputs": [
    {
     "name": "stdout",
     "output_type": "stream",
     "text": [
      "The value of num_string is: 10 & the type of num_string is: <class 'str'>\n",
      "The value of num_int is: 10 & the type of num_int is: <class 'int'>\n",
      "The value of num_string_again is: 10 & the type of num_string_again is: <class 'str'>\n"
     ]
    }
   ],
   "source": [
    "num_string = \"10\"\n",
    "print(\"The value of num_string is:\", num_string, \"& the type of num_string is:\", type(num_string))\n",
    "num_int = int(num_string)\n",
    "print(\"The value of num_int is:\", num_int, \"& the type of num_int is:\", type(num_int))\n",
    "num_string_again = str(num_int)\n",
    "print(\"The value of num_string_again is:\", num_string_again, \"& the type of num_string_again is:\", type(num_string_again))"
   ]
  }
 ],
 "metadata": {
  "kernelspec": {
   "display_name": "py310",
   "language": "python",
   "name": "python3"
  },
  "language_info": {
   "codemirror_mode": {
    "name": "ipython",
    "version": 3
   },
   "file_extension": ".py",
   "mimetype": "text/x-python",
   "name": "python",
   "nbconvert_exporter": "python",
   "pygments_lexer": "ipython3",
   "version": "3.10.12"
  },
  "orig_nbformat": 4
 },
 "nbformat": 4,
 "nbformat_minor": 2
}
