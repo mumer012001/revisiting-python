{
 "cells": [
  {
   "cell_type": "markdown",
   "metadata": {},
   "source": [
    "# **Dictionaries:**\n",
    "\n",
    "Dictionaries in Python are versatile data structures that allow you to store and manipulate data in key-value pairs, similar to JSON format. Here's everything you need to know about dictionaries in Python:\n",
    "\n",
    "## **Definition and Syntax:**\n",
    "\n",
    "A dictionary is defined using curly braces **`{}`**. Each element in a dictionary is a key-value pair, where the key is a unique identifier, and the value can be any Python object. Keys are typically immutable types (strings, numbers, or tuples), while values can be of any data type (including other dictionaries).\n",
    "\n",
    "Key-value pairs are separated by a colon **`':'`**, and pairs are separated by commas **`','`**. See the example below:"
   ]
  },
  {
   "cell_type": "code",
   "execution_count": 1,
   "metadata": {},
   "outputs": [
    {
     "name": "stdout",
     "output_type": "stream",
     "text": [
      "{'name': 'Umer', 'age': 22, 'city': 'Pindi Gheb'}\n"
     ]
    }
   ],
   "source": [
    "# Simple dictionary example\n",
    "my_dict = {\n",
    "    \"name\": \"Umer\",\n",
    "    \"age\": 22,\n",
    "    \"city\": \"Pindi Gheb\"\n",
    "}\n",
    "print(my_dict) # {'name': 'Umer', 'age': 22, 'city': 'Pindi Gheb'}"
   ]
  },
  {
   "cell_type": "markdown",
   "metadata": {},
   "source": [
    "## **Accessing Values:**\n",
    "\n",
    "You can access the values in a dictionary by referring to their keys inside square brackets **`[]`** or by using the **`get()`** method.\n",
    "Accessing a non-existent key using **`[]`** will raise a KeyError, while **`get()`** will return **`None`** or a specified default value."
   ]
  },
  {
   "cell_type": "code",
   "execution_count": 2,
   "metadata": {},
   "outputs": [
    {
     "name": "stdout",
     "output_type": "stream",
     "text": [
      "Umer 22\n"
     ]
    }
   ],
   "source": [
    "# Accessing a value by key\n",
    "name = my_dict[\"name\"] # my_dict is dictionary created above\n",
    "age = my_dict.get(\"age\", 0)  # Use 0 as the default if the key doesn't exist\n",
    "print(name, age) # Umer 22"
   ]
  },
  {
   "cell_type": "markdown",
   "metadata": {},
   "source": [
    "## **Modifying Dictionaries:**\n",
    "\n",
    "You can change the value associated with a specific key."
   ]
  },
  {
   "cell_type": "code",
   "execution_count": 3,
   "metadata": {},
   "outputs": [
    {
     "data": {
      "text/plain": [
       "{'name': 'Umer', 'age': 23, 'city': 'Pindi Gheb'}"
      ]
     },
     "execution_count": 3,
     "metadata": {},
     "output_type": "execute_result"
    }
   ],
   "source": [
    "my_dict[\"age\"] = 23 # Changing the value of a key\n",
    "my_dict # since I am using Jupyter Notebook, I don't need to use print() function to see the output most of the times"
   ]
  },
  {
   "cell_type": "markdown",
   "metadata": {},
   "source": [
    "## **Adding and Removing Items:**\n",
    "\n",
    "To add a new key-value pair, simply assign a value to a new key. To remove a key-value pair, use the **`del`** statement or the **`pop()`** method."
   ]
  },
  {
   "cell_type": "code",
   "execution_count": 4,
   "metadata": {},
   "outputs": [
    {
     "data": {
      "text/plain": [
       "{'name': 'Umer', 'age': 23, 'email': 'umer@ds.com'}"
      ]
     },
     "execution_count": 4,
     "metadata": {},
     "output_type": "execute_result"
    }
   ],
   "source": [
    "my_dict[\"email\"] = \"umer@ds.com\"  # Adding a new key-value pair\n",
    "del my_dict[\"city\"]  # Removing a key-value pair\n",
    "my_dict # {'name': 'Umer', 'age': 23, 'email': 'umer@ds.com'}"
   ]
  },
  {
   "cell_type": "markdown",
   "metadata": {},
   "source": [
    "## **Checking for Key Existence:**\n",
    "\n",
    "You can use the **`'in'`** keyword to check if a key exists in the dictionary. The **`keys()`** and **`values()`** methods allow you to access keys and values as iterable objects."
   ]
  },
  {
   "cell_type": "code",
   "execution_count": 5,
   "metadata": {},
   "outputs": [
    {
     "name": "stdout",
     "output_type": "stream",
     "text": [
      "Email exists in the dictionary\n",
      "True\n",
      "dict_keys(['name', 'age', 'email'])\n",
      "dict_values(['Umer', 23, 'umer@ds.com'])\n",
      "['name', 'age', 'email']\n",
      "['Umer', 23, 'umer@ds.com']\n"
     ]
    }
   ],
   "source": [
    "# Checking if a key exists in the dictionary\n",
    "if \"email\" in my_dict:\n",
    "    print(\"Email exists in the dictionary\")\n",
    "\n",
    "# You can do it this way too\n",
    "print(\"email\" in my_dict) # Output: True\n",
    "\n",
    "# you can store keys and values in separate lists as well\n",
    "keys = my_dict.keys() # Returns a list of keys but data type is not list, it is dict_keys\n",
    "values = my_dict.values() # Returns a list of values but data type is not list, it is dict_values\n",
    "print(keys)\n",
    "print(values)\n",
    "\n",
    "# To convert dict_keys and dict_values to list, you can use list() function\n",
    "keys = list(keys)\n",
    "values = list(values)\n",
    "print(keys)\n",
    "print(values)"
   ]
  },
  {
   "cell_type": "markdown",
   "metadata": {},
   "source": [
    "## **Dictionary Methods:**\n",
    "\n",
    "Dictionaries have several built-in methods, such as **`update()`**, **`clear()`**, **`copy()`**, and **`items()`**, which provide various functionalities for working with dictionaries."
   ]
  },
  {
   "cell_type": "code",
   "execution_count": 6,
   "metadata": {},
   "outputs": [
    {
     "name": "stdout",
     "output_type": "stream",
     "text": [
      "{'name': 'Umer', 'age': 23, 'email': 'umer@ds.com', 'country': 'Pakistan'}\n",
      "{'name': 'Umer', 'age': 23, 'email': 'umer@ds.com', 'country': 'Pakistan'}\n",
      "{}\n",
      "dict_items([('name', 'Umer'), ('age', 23), ('email', 'umer@ds.com'), ('country', 'Pakistan')])\n"
     ]
    }
   ],
   "source": [
    "my_dict.update({\"country\": \"Pakistan\"})  # Add or update key-value pairs\n",
    "print(my_dict) # {'name': 'Umer', 'age': 23, 'email': 'umer@ds', 'country': 'Pakistan'}\n",
    "\n",
    "new_dict = my_dict.copy()  # Create a shallow copy, it means that if you change the value of a key in new_dict, it will not change the value of that key in my_dict\n",
    "print(new_dict) # {'name': 'Umer', 'age': 23, 'email': 'umer@ds', 'country': 'Pakistan'}\n",
    "\n",
    "my_dict.clear()  # Remove all key-value pairs\n",
    "print(my_dict) # {}\n",
    "\n",
    "items = new_dict.items()  # Get a view of key-value pairs as tuples\n",
    "print(items) # dict_items([('name', 'Umer'), ('age', 23), ('email', 'umer@ds.com'), ('country', 'Pakistan')])"
   ]
  },
  {
   "cell_type": "markdown",
   "metadata": {},
   "source": [
    "## **Dictionary Comprehensions:**\n",
    "\n",
    "Like lists, dictionaries can be created using dictionary comprehensions, which allow you to generate dictionaries using concise and readable syntax."
   ]
  },
  {
   "cell_type": "code",
   "execution_count": 7,
   "metadata": {},
   "outputs": [
    {
     "data": {
      "text/plain": [
       "{1: 1, 2: 4, 3: 9, 4: 16, 5: 25}"
      ]
     },
     "execution_count": 7,
     "metadata": {},
     "output_type": "execute_result"
    }
   ],
   "source": [
    "squares = {x: x**2 for x in range(1, 6)}\n",
    "squares"
   ]
  },
  {
   "cell_type": "markdown",
   "metadata": {},
   "source": [
    "## **Nesting Dictionaries:**\n",
    "\n",
    "Dictionaries can be nested inside other dictionaries, creating complex data structures."
   ]
  },
  {
   "cell_type": "code",
   "execution_count": 8,
   "metadata": {},
   "outputs": [
    {
     "name": "stdout",
     "output_type": "stream",
     "text": [
      "{'name': 'Umer', 'address': {'street': '123 Main St.', 'city': 'Pindi Gheb'}, 'age': 22}\n",
      "Pindi Gheb\n"
     ]
    }
   ],
   "source": [
    "person = {\n",
    "    \"name\": \"Umer\",\n",
    "    \"address\": {\n",
    "        \"street\": \"123 Main St.\",\n",
    "        \"city\": \"Pindi Gheb\"\n",
    "    },\n",
    "    \"age\": 22\n",
    "}\n",
    "print(person)\n",
    "print(person[\"address\"][\"city\"]) # Pindi Gheb"
   ]
  },
  {
   "cell_type": "markdown",
   "metadata": {},
   "source": [
    "## **Things To Remember:**\n",
    "\n",
    "**Immutability of Keys:**\n",
    "\n",
    "Dictionary keys must be of an immutable data type, such as strings, numbers, or tuples. Lists and other dictionaries cannot be used as keys.\n",
    "\n",
    "**Unordered Nature:**\n",
    "\n",
    "Dictionaries are unordered collections, which means that the order of key-value pairs is not guaranteed. Starting from **Python 3.7**, dictionaries maintain the insertion order."
   ]
  }
 ],
 "metadata": {
  "kernelspec": {
   "display_name": "base",
   "language": "python",
   "name": "python3"
  },
  "language_info": {
   "codemirror_mode": {
    "name": "ipython",
    "version": 3
   },
   "file_extension": ".py",
   "mimetype": "text/x-python",
   "name": "python",
   "nbconvert_exporter": "python",
   "pygments_lexer": "ipython3",
   "version": "3.11.5"
  }
 },
 "nbformat": 4,
 "nbformat_minor": 2
}
