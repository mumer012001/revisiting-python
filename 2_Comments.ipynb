{
 "cells": [
  {
   "attachments": {},
   "cell_type": "markdown",
   "metadata": {},
   "source": [
    "# **Comments**\n",
    "In Python, comments are used to add explanatory notes or annotations to the code. Comments are not executed by the Python interpreter and are entirely for the benefit of the programmers. They help in providing context, explanations, or reminders within the code, making it easier for developers to understand the code's purpose and functionality."
   ]
  },
  {
   "attachments": {},
   "cell_type": "markdown",
   "metadata": {},
   "source": [
    "## **Types Of Comments**\n",
    "Python supports two types of comments:\n",
    "- Single-Line Comments\n",
    "- Multi-Line Comments"
   ]
  },
  {
   "attachments": {},
   "cell_type": "markdown",
   "metadata": {},
   "source": [
    "### **Single-Line Comments:**\n",
    "Single-line comments begin with the hash character #. Anything after the # on the same line is considered a comment and is ignored by the Python interpreter. Single-line comments are typically used for short explanations or comments."
   ]
  },
  {
   "cell_type": "code",
   "execution_count": 1,
   "metadata": {},
   "outputs": [
    {
     "name": "stdout",
     "output_type": "stream",
     "text": [
      "Hello, World!\n"
     ]
    }
   ],
   "source": [
    "# This is a single-line comment\n",
    "print(\"Hello, World!\")  # This is another single-line comment"
   ]
  },
  {
   "attachments": {},
   "cell_type": "markdown",
   "metadata": {},
   "source": [
    "### **Multi-Line Comments (Docstrings):**\n",
    "Multi-line comments, also known as docstrings, are used for longer comments that span multiple lines. They are enclosed between triple quotes (''' or \"\"\") and are often used to document functions, classes, or modules. Although docstrings are not technically comments, they serve a similar purpose of providing documentation."
   ]
  },
  {
   "cell_type": "code",
   "execution_count": 2,
   "metadata": {},
   "outputs": [
    {
     "name": "stdout",
     "output_type": "stream",
     "text": [
      "15\n"
     ]
    }
   ],
   "source": [
    "'''\n",
    "This is a multi-line comment (docstring) that provides\n",
    "detailed information about the function below.\n",
    "'''\n",
    "def add_numbers(a, b):\n",
    "    \"\"\"This function adds two numbers and returns the result.\"\"\"\n",
    "    return a + b\n",
    "print(add_numbers(5, 10))"
   ]
  },
  {
   "attachments": {},
   "cell_type": "markdown",
   "metadata": {},
   "source": [
    "#### **Tips For Multi-Line Comments**\n",
    "- If you have to use double quotes \" \" inside a comment then you should use ''' '''.\n",
    "  - For example: `'''He said \"I am very lucky\" and left.'''`\n",
    "- If you have to use single quotes ' ' inside a comment then you should use \"\"\" \"\"\".\n",
    "  - For example: `\"\"\"This is Umer's book.\"\"\"`"
   ]
  }
 ],
 "metadata": {
  "kernelspec": {
   "display_name": "py310",
   "language": "python",
   "name": "python3"
  },
  "language_info": {
   "codemirror_mode": {
    "name": "ipython",
    "version": 3
   },
   "file_extension": ".py",
   "mimetype": "text/x-python",
   "name": "python",
   "nbconvert_exporter": "python",
   "pygments_lexer": "ipython3",
   "version": "3.10.12"
  },
  "orig_nbformat": 4
 },
 "nbformat": 4,
 "nbformat_minor": 2
}
