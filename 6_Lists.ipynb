{
 "cells": [
  {
   "attachments": {},
   "cell_type": "markdown",
   "metadata": {},
   "source": [
    "# **Lists In Python**\n",
    "Lists are one of the most versatile and commonly used data structures in Python. They are used to store collections of items in a specific order. Lists are mutable, which means you can modify them by adding, removing, or modifying elements."
   ]
  },
  {
   "attachments": {},
   "cell_type": "markdown",
   "metadata": {},
   "source": [
    "## **Introduction**\n",
    "Lists are used to store multiple items in a single variable. These items can be of any data type, int, float, strings, and boolean etc. Lists are one of 4 built-in data types in Python used to store collections of data, the other 3 are Tuple, Set, and Dictionary, all with different qualities and usage and yes, I'll cover them later.\n",
    "\n",
    "**Here's everything you need to know about lists in Python:**"
   ]
  },
  {
   "attachments": {},
   "cell_type": "markdown",
   "metadata": {},
   "source": [
    "### **Creating Lists:**\n",
    "You can create a list by enclosing a comma-separated sequence of elements within square brackets []:"
   ]
  },
  {
   "cell_type": "code",
   "execution_count": 1,
   "metadata": {},
   "outputs": [],
   "source": [
    "# Empty list\n",
    "empty_list = []\n",
    "\n",
    "# List of integers\n",
    "numbers = [1, 2, 3, 4, 5]\n",
    "\n",
    "# List of strings\n",
    "fruits = ['apple', 'banana', 'cherry']\n",
    "\n",
    "# List of mixed data types\n",
    "mixed_list = [10, 'hello', 3.14, True]"
   ]
  },
  {
   "attachments": {},
   "cell_type": "markdown",
   "metadata": {},
   "source": [
    "### **Accessing List Elements:**\n",
    "You can access individual elements in a list using indexing. Indexing starts from 0 for the first element, -1 for the last element, -2 for the second-last element, and so on:"
   ]
  },
  {
   "cell_type": "code",
   "execution_count": 2,
   "metadata": {},
   "outputs": [
    {
     "name": "stdout",
     "output_type": "stream",
     "text": [
      "apple\n",
      "cherry\n"
     ]
    }
   ],
   "source": [
    "fruits = ['apple', 'banana', 'cherry']\n",
    "print(fruits[0])   # Output: 'apple'\n",
    "print(fruits[-1])  # Output: 'cherry'"
   ]
  },
  {
   "attachments": {},
   "cell_type": "markdown",
   "metadata": {},
   "source": [
    "### **List Slicing:**\n",
    "You can extract a sub-list from a list using slicing. Slicing is done using a colon (:) between the start and end indices:"
   ]
  },
  {
   "cell_type": "code",
   "execution_count": 3,
   "metadata": {},
   "outputs": [
    {
     "name": "stdout",
     "output_type": "stream",
     "text": [
      "[2, 3, 4]\n"
     ]
    }
   ],
   "source": [
    "numbers = [1, 2, 3, 4, 5]\n",
    "print(numbers[1:4])  # Output: [2, 3, 4], as we know the last index is not included"
   ]
  },
  {
   "attachments": {},
   "cell_type": "markdown",
   "metadata": {},
   "source": [
    "### **List Length:**\n",
    "The len() function is used to get the length (number of elements) of a list:"
   ]
  },
  {
   "cell_type": "code",
   "execution_count": 4,
   "metadata": {},
   "outputs": [
    {
     "name": "stdout",
     "output_type": "stream",
     "text": [
      "3\n"
     ]
    }
   ],
   "source": [
    "fruits = ['apple', 'banana', 'cherry']\n",
    "print(len(fruits))  # Output: 3"
   ]
  },
  {
   "attachments": {},
   "cell_type": "markdown",
   "metadata": {},
   "source": [
    "### **Modifying Lists:**\n",
    "Lists are mutable, which means you can change their elements after creation:"
   ]
  },
  {
   "cell_type": "code",
   "execution_count": 5,
   "metadata": {},
   "outputs": [
    {
     "name": "stdout",
     "output_type": "stream",
     "text": [
      "['apple', 'orange', 'cherry']\n",
      "['apple', 'orange', 'cherry', 'kiwi']\n",
      "['orange', 'cherry', 'kiwi']\n"
     ]
    }
   ],
   "source": [
    "fruits = ['apple', 'banana', 'cherry']\n",
    "fruits[1] = 'orange'  # Replace 'banana' with 'orange'\n",
    "print(fruits)        # Output: ['apple', 'orange', 'cherry']\n",
    "\n",
    "fruits.append('kiwi')   # Add 'kiwi' to the end of the list\n",
    "print(fruits)           # Output: ['apple', 'orange', 'cherry', 'kiwi']\n",
    "\n",
    "fruits.remove('apple')  # Remove 'apple' from the list\n",
    "print(fruits)           # Output: ['orange', 'cherry', 'kiwi']"
   ]
  },
  {
   "attachments": {},
   "cell_type": "markdown",
   "metadata": {},
   "source": [
    "### **List Concatenation and Repetition:**\n",
    "You can concatenate two lists using the + operator, and you can repeat a list using the * operator:"
   ]
  },
  {
   "cell_type": "code",
   "execution_count": 6,
   "metadata": {},
   "outputs": [
    {
     "name": "stdout",
     "output_type": "stream",
     "text": [
      "[1, 2, 3, 4, 5, 6]\n",
      "[1, 2, 3, 1, 2, 3, 1, 2, 3]\n"
     ]
    }
   ],
   "source": [
    "list1 = [1, 2, 3]\n",
    "list2 = [4, 5, 6]\n",
    "result = list1 + list2   # Concatenation\n",
    "print(result)            # Output: [1, 2, 3, 4, 5, 6]\n",
    "\n",
    "repeated_list = list1 * 3  # Repetition\n",
    "print(repeated_list)       # Output: [1, 2, 3, 1, 2, 3, 1, 2, 3]"
   ]
  },
  {
   "attachments": {},
   "cell_type": "markdown",
   "metadata": {},
   "source": [
    "### **Checking for Element Existence:**\n",
    "You can check if an element exists in a list using the in keyword:"
   ]
  },
  {
   "cell_type": "code",
   "execution_count": 7,
   "metadata": {},
   "outputs": [
    {
     "name": "stdout",
     "output_type": "stream",
     "text": [
      "True\n",
      "False\n"
     ]
    }
   ],
   "source": [
    "fruits = ['apple', 'banana', 'cherry']\n",
    "print('banana' in fruits)  # Output: True\n",
    "print('orange' in fruits)  # Output: False"
   ]
  },
  {
   "attachments": {},
   "cell_type": "markdown",
   "metadata": {},
   "source": [
    "### **Nested Lists:**\n",
    "Lists can contain other lists, allowing you to create nested data structures:"
   ]
  },
  {
   "cell_type": "code",
   "execution_count": 8,
   "metadata": {},
   "outputs": [
    {
     "name": "stdout",
     "output_type": "stream",
     "text": [
      "6\n"
     ]
    }
   ],
   "source": [
    "matrix = [[1, 2, 3], [4, 5, 6], [7, 8, 9]]\n",
    "print(matrix[1][2])  # Output: 6"
   ]
  },
  {
   "attachments": {},
   "cell_type": "markdown",
   "metadata": {},
   "source": [
    "## **List Methods:**\n",
    "Python provides numerous built-in methods for lists. Some common methods include append(), extend(), insert(), remove(), pop(), index(), count(), and sort(). "
   ]
  },
  {
   "attachments": {},
   "cell_type": "markdown",
   "metadata": {},
   "source": [
    "### **append(item):**\n",
    "The append() method is used to add an element to the end of the list. It modifies the original list and adds the specified item as a single element."
   ]
  },
  {
   "cell_type": "code",
   "execution_count": 9,
   "metadata": {},
   "outputs": [
    {
     "name": "stdout",
     "output_type": "stream",
     "text": [
      "['apple', 'banana', 'cherry', 'orange']\n"
     ]
    }
   ],
   "source": [
    "fruits = ['apple', 'banana', 'cherry']\n",
    "fruits.append('orange')\n",
    "print(fruits)  # Output: ['apple', 'banana', 'cherry', 'orange']"
   ]
  },
  {
   "attachments": {},
   "cell_type": "markdown",
   "metadata": {},
   "source": [
    "### **extend(iterable):**\n",
    "The extend() method is used to add all the elements from an iterable (e.g., list, tuple, string) to the end of the list. It modifies the original list."
   ]
  },
  {
   "cell_type": "code",
   "execution_count": 10,
   "metadata": {},
   "outputs": [
    {
     "name": "stdout",
     "output_type": "stream",
     "text": [
      "['apple', 'banana', 'cherry', 'orange', 'kiwi']\n"
     ]
    }
   ],
   "source": [
    "fruits = ['apple', 'banana', 'cherry']\n",
    "more_fruits = ['orange', 'kiwi']\n",
    "fruits.extend(more_fruits)\n",
    "print(fruits)  # Output: ['apple', 'banana', 'cherry', 'orange', 'kiwi']"
   ]
  },
  {
   "attachments": {},
   "cell_type": "markdown",
   "metadata": {},
   "source": [
    "### **insert(index, item):**\n",
    "The insert() method is used to insert an element at a specific index in the list. It shifts the existing elements to the right. It modifies the original list."
   ]
  },
  {
   "cell_type": "code",
   "execution_count": 11,
   "metadata": {},
   "outputs": [
    {
     "name": "stdout",
     "output_type": "stream",
     "text": [
      "['apple', 'orange', 'banana', 'cherry']\n"
     ]
    }
   ],
   "source": [
    "fruits = ['apple', 'banana', 'cherry']\n",
    "fruits.insert(1, 'orange')\n",
    "print(fruits)  # Output: ['apple', 'orange', 'banana', 'cherry']"
   ]
  },
  {
   "attachments": {},
   "cell_type": "markdown",
   "metadata": {},
   "source": [
    "### **remove(item):**\n",
    "The remove() method is used to remove the first occurrence of the specified item from the list. If the item is not found, it raises a ValueError."
   ]
  },
  {
   "cell_type": "code",
   "execution_count": 12,
   "metadata": {},
   "outputs": [
    {
     "name": "stdout",
     "output_type": "stream",
     "text": [
      "['apple', 'cherry']\n"
     ]
    }
   ],
   "source": [
    "fruits = ['apple', 'banana', 'cherry']\n",
    "fruits.remove('banana')\n",
    "print(fruits)  # Output: ['apple', 'cherry']"
   ]
  },
  {
   "attachments": {},
   "cell_type": "markdown",
   "metadata": {},
   "source": [
    "### **pop(index=-1):**\n",
    "The pop() method is used to remove and return the element at the specified index. If no index is provided, it removes and returns the last element. It modifies the original list."
   ]
  },
  {
   "cell_type": "code",
   "execution_count": 13,
   "metadata": {},
   "outputs": [
    {
     "name": "stdout",
     "output_type": "stream",
     "text": [
      "banana\n",
      "['apple', 'cherry']\n"
     ]
    }
   ],
   "source": [
    "fruits = ['apple', 'banana', 'cherry']\n",
    "removed_item = fruits.pop(1)\n",
    "print(removed_item)  # Output: 'banana'\n",
    "print(fruits)        # Output: ['apple', 'cherry']"
   ]
  },
  {
   "attachments": {},
   "cell_type": "markdown",
   "metadata": {},
   "source": [
    "### **index(item, start=0, end=len(list)):**\n",
    "The index() method is used to find the index of the first occurrence of the specified item in the list. You can specify optional start and end parameters to search within a specific range."
   ]
  },
  {
   "cell_type": "code",
   "execution_count": 14,
   "metadata": {},
   "outputs": [
    {
     "name": "stdout",
     "output_type": "stream",
     "text": [
      "1\n",
      "3\n"
     ]
    }
   ],
   "source": [
    "fruits = ['apple', 'banana', 'cherry', 'banana']\n",
    "index = fruits.index('banana')\n",
    "print(index)  # Output: 1\n",
    "\n",
    "# Searching with a start and end index\n",
    "index = fruits.index('banana', 2, 4)\n",
    "print(index)  # Output: 3"
   ]
  },
  {
   "attachments": {},
   "cell_type": "markdown",
   "metadata": {},
   "source": [
    "### **count(item):**\n",
    "The count() method is used to count the number of occurrences of a specified item in the list."
   ]
  },
  {
   "cell_type": "code",
   "execution_count": 15,
   "metadata": {},
   "outputs": [
    {
     "name": "stdout",
     "output_type": "stream",
     "text": [
      "2\n"
     ]
    }
   ],
   "source": [
    "fruits = ['apple', 'banana', 'cherry', 'banana']\n",
    "count = fruits.count('banana')\n",
    "print(count)  # Output: 2"
   ]
  },
  {
   "attachments": {},
   "cell_type": "markdown",
   "metadata": {},
   "source": [
    "### **sort(reverse=False):**\n",
    "The sort() method is used to sort the elements of the list in ascending order. If you want to sort in descending order, you can use reverse=True. It modifies the original list."
   ]
  },
  {
   "cell_type": "code",
   "execution_count": 16,
   "metadata": {},
   "outputs": [
    {
     "name": "stdout",
     "output_type": "stream",
     "text": [
      "[1, 2, 3, 4, 5]\n",
      "[5, 4, 3, 2, 1]\n"
     ]
    }
   ],
   "source": [
    "numbers = [3, 1, 5, 2, 4]\n",
    "numbers.sort()\n",
    "print(numbers)  # Output: [1, 2, 3, 4, 5]\n",
    "\n",
    "# Sorting in descending order\n",
    "numbers.sort(reverse=True)\n",
    "print(numbers)  # Output: [5, 4, 3, 2, 1]"
   ]
  },
  {
   "attachments": {},
   "cell_type": "markdown",
   "metadata": {},
   "source": [
    "## **Exercises**"
   ]
  },
  {
   "attachments": {},
   "cell_type": "markdown",
   "metadata": {},
   "source": [
    "### **Exercise #1:**\n",
    "Let us say your expense for every month are listed below,\n",
    "\n",
    "- January - 2200\n",
    "- February - 2350\n",
    "- March - 2600\n",
    "- April - 2130\n",
    "- May - 2190\n",
    "\n",
    "Create a list to store these monthly expenses and using that find out,\n",
    "1. In Feb, how many dollars you spent extra compare to January?\n",
    "2. Find out your total expense in first quarter (first three months) of the year.\n",
    "3. Find out if you spent exactly 2000 dollars in any month\n",
    "4. June month just finished and your expense is 1980 dollar. Add this item to our monthly expense list\n",
    "5. You returned an item that you bought in a month of April and\n",
    "got a refund of 200$. Make a correction to your monthly expense list\n",
    "based on this"
   ]
  },
  {
   "cell_type": "code",
   "execution_count": 10,
   "metadata": {},
   "outputs": [
    {
     "name": "stdout",
     "output_type": "stream",
     "text": [
      "150\n",
      "7150\n",
      "False\n",
      "[2200, 2350, 2600, 2130, 2190, 1980]\n",
      "[2200, 2350, 2600, 1930, 2190, 1980]\n"
     ]
    }
   ],
   "source": [
    "expenses = [2200, 2350, 2600, 2130, 2190]\n",
    "extra = expenses[1] - expenses[0]\n",
    "print(extra)  # Output: 150\n",
    "\n",
    "expenses_q1 = sum(expenses[0:3])\n",
    "print(expenses_q1)  # Output: 7150\n",
    "\n",
    "print(2000 in expenses)  # Output: False\n",
    "\n",
    "expenses.append(1980)\n",
    "print(expenses)  # Output: [2200, 2350, 2600, 2130, 2190, 1980]\n",
    "\n",
    "expenses[3] = expenses[3] - 200\n",
    "print(expenses)  # Output: [2200, 2350, 2600, 1930, 2190, 1980]"
   ]
  },
  {
   "attachments": {},
   "cell_type": "markdown",
   "metadata": {},
   "source": [
    "### **Exercise #2:**\n",
    "You have a list of your favorite marvel super heros.\n",
    "\n",
    "heros=['spider man','thor','hulk','iron man','captain america']\n",
    "\n",
    "Using this find out,\n",
    "\n",
    "1. Length of the list\n",
    "2. Add 'black panther' at the end of this list\n",
    "3. You realize that you need to add 'black panther' after 'hulk',\n",
    "   so remove it from the list first and then add it after 'hulk'\n",
    "4. Now you don't like thor and hulk because they get angry easily :)\n",
    "   So you want to remove thor and hulk from list and replace them with doctor strange (because he is cool).\n",
    "   Do that with one line of code.\n",
    "5. Sort the heros list in alphabetical order (Hint. Use dir() functions to list down all functions available in list)"
   ]
  },
  {
   "cell_type": "code",
   "execution_count": null,
   "metadata": {},
   "outputs": [],
   "source": []
  },
  {
   "attachments": {},
   "cell_type": "markdown",
   "metadata": {},
   "source": [
    "### **Exercise #3:**\n",
    "Given a list of numbers, perform the following operations without using loops or if-else statements:\n",
    "\n",
    "1. Find the maximum and minimum numbers in the list.\n",
    "2. Calculate the sum of all the numbers in the list.\n",
    "3. Find the average of the numbers in the list.\n",
    "4. Create a new list that contains the squares of each number in the original list."
   ]
  },
  {
   "cell_type": "code",
   "execution_count": null,
   "metadata": {},
   "outputs": [],
   "source": []
  },
  {
   "attachments": {},
   "cell_type": "markdown",
   "metadata": {},
   "source": [
    "### **Exercise #4:**\n",
    "You have a list of temperatures (in degrees Celsius) recorded each day for a week (7 days). Perform the following operations without using loops or if-else statements:\n",
    "\n",
    "1. Convert each temperature to Fahrenheit and create a new list with the converted temperatures.\n",
    "(Fahrenheit = Celsius * 9/5 + 32)\n",
    "2. Find the number of days where the temperature was above 30 degrees Celsius.\n",
    "3. Create a new list that contains the days where the temperature was below 20 degrees Celsius."
   ]
  },
  {
   "cell_type": "code",
   "execution_count": null,
   "metadata": {},
   "outputs": [],
   "source": []
  },
  {
   "attachments": {},
   "cell_type": "markdown",
   "metadata": {},
   "source": [
    "### **Exercise #5:**\n",
    "Given a list of words, perform the following operations without using loops or if-else statements:\n",
    "\n",
    "1. Create a new list that contains the lengths of each word in the original list.\n",
    "2. Find the word(s) with the maximum length in the list.\n",
    "3. Sort the list of words in reverse alphabetical order without changing the original list."
   ]
  },
  {
   "cell_type": "code",
   "execution_count": null,
   "metadata": {},
   "outputs": [],
   "source": []
  }
 ],
 "metadata": {
  "kernelspec": {
   "display_name": "py310",
   "language": "python",
   "name": "python3"
  },
  "language_info": {
   "codemirror_mode": {
    "name": "ipython",
    "version": 3
   },
   "file_extension": ".py",
   "mimetype": "text/x-python",
   "name": "python",
   "nbconvert_exporter": "python",
   "pygments_lexer": "ipython3",
   "version": "3.10.12"
  },
  "orig_nbformat": 4
 },
 "nbformat": 4,
 "nbformat_minor": 2
}
