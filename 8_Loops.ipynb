{
 "cells": [
  {
   "attachments": {},
   "cell_type": "markdown",
   "metadata": {},
   "source": [
    "# **Loops In Python**\n",
    "Loops are essential control structures in programming that allow you to execute a block of code repeatedly. In Python, there are two types of loops: for loop and while loop."
   ]
  },
  {
   "attachments": {},
   "cell_type": "markdown",
   "metadata": {},
   "source": [
    "## **for Loop:**\n",
    "The for loop is used to iterate over a sequence (such as a list, tuple, string, or range) and execute a block of code for each element in the sequence."
   ]
  },
  {
   "cell_type": "code",
   "execution_count": 4,
   "metadata": {},
   "outputs": [
    {
     "name": "stdout",
     "output_type": "stream",
     "text": [
      "apple\n",
      "banana\n",
      "cherry\n",
      "orange\n"
     ]
    }
   ],
   "source": [
    "# Syntax of for Loop:\n",
    "# for val in sequence:\n",
    "#     Body of for\n",
    "\n",
    "\n",
    "fruits = ['apple', 'banana', 'cherry', 'orange'] # list of fruits\n",
    "for fruit in fruits: # goes through each fruit in the list\n",
    "# instead of fruit, you can use any variable name like x, y, z\n",
    "    print(fruit) # prints each fruit in the list"
   ]
  },
  {
   "attachments": {},
   "cell_type": "markdown",
   "metadata": {},
   "source": [
    "## **while Loop:**\n",
    "The while loop is used to repeatedly execute a block of code as long as a specified condition is true."
   ]
  },
  {
   "cell_type": "code",
   "execution_count": 6,
   "metadata": {},
   "outputs": [
    {
     "name": "stdout",
     "output_type": "stream",
     "text": [
      "1\n",
      "2\n",
      "3\n",
      "4\n",
      "5\n"
     ]
    }
   ],
   "source": [
    "# Syntax of while loop\n",
    "# while test:\n",
    "#     code statement    \n",
    "\n",
    "count = 0\n",
    "while count < 5:\n",
    "    print(count+1) # prints 1 to 5\n",
    "    count += 1"
   ]
  },
  {
   "attachments": {},
   "cell_type": "markdown",
   "metadata": {},
   "source": [
    "## **else Clause in Loops:**\n",
    "Both for and while loops in Python can have an optional else clause, which is executed when the loop completes normally (i.e., when the loop condition becomes false or the iterable is exhausted)."
   ]
  },
  {
   "cell_type": "code",
   "execution_count": 13,
   "metadata": {},
   "outputs": [
    {
     "name": "stdout",
     "output_type": "stream",
     "text": [
      "1\n",
      "2\n",
      "3\n",
      "4\n",
      "5\n",
      "For loop completed.\n",
      "\n",
      "5\n",
      "4\n",
      "3\n",
      "2\n",
      "1\n",
      "While loop completed\n"
     ]
    }
   ],
   "source": [
    "for i in range(5): # range is from 0 to 4\n",
    "    print(i+1) # prints 1 to 5\n",
    "else: # else block is executed after the for loop is completed\n",
    "    print(\"For loop completed.\\n\")\n",
    "    \n",
    "count = 5\n",
    "while count > 0:\n",
    "    print(count) # prints 5 to 1\n",
    "    count -= 1 # same as count = count - 1\n",
    "else: # else block is executed after the for loop is completed\n",
    "    print(\"While loop completed\")"
   ]
  },
  {
   "attachments": {},
   "cell_type": "markdown",
   "metadata": {},
   "source": [
    "## **continue Statement:**\n",
    "The continue statement is used to skip the current iteration of a loop and proceed to the next iteration. When the continue statement is encountered, the rest of the loop's code for the current iteration is skipped, and the loop proceeds to the next iteration."
   ]
  },
  {
   "cell_type": "code",
   "execution_count": 14,
   "metadata": {},
   "outputs": [
    {
     "name": "stdout",
     "output_type": "stream",
     "text": [
      "1\n",
      "2\n",
      "4\n",
      "5\n"
     ]
    }
   ],
   "source": [
    "# Syntax of continue statement\n",
    "# for element in sequence:\n",
    "#     # Code block\n",
    "#     if condition:\n",
    "#         continue  # Skip the current iteration if the condition is met\n",
    "#     # Rest of the loop code\n",
    "\n",
    "\n",
    "for i in range(1, 6): # range function is described below\n",
    "    if i == 3:\n",
    "        continue # skips the rest of the code in the loop for i = 3\n",
    "    print(i)"
   ]
  },
  {
   "attachments": {},
   "cell_type": "markdown",
   "metadata": {},
   "source": [
    "## **break Statement:**\n",
    "The break statement is used to exit a loop prematurely, even if the loop condition is still true. When encountered, the break statement immediately terminates the loop it is contained within, and the program continues to execute the code after the loop."
   ]
  },
  {
   "cell_type": "code",
   "execution_count": 9,
   "metadata": {},
   "outputs": [
    {
     "name": "stdout",
     "output_type": "stream",
     "text": [
      "Key not found in lounge\n",
      "Key not found in bedroom\n",
      "Key not found in kitchen\n",
      "Key found in garden\n"
     ]
    }
   ],
   "source": [
    "# Syntax of continue statement\n",
    "# for element in sequence:\n",
    "#     # Code block\n",
    "#     if condition:\n",
    "#         break  # Exit the loop if the condition is met\n",
    "\n",
    "\n",
    "places = ['lounge', 'bedroom', 'kitchen', 'garden', 'garage']\n",
    "key_is_in = 'garden'\n",
    "for place in places:\n",
    "    if place == key_is_in:\n",
    "        print('Key found in', place)\n",
    "        break\n",
    "    else:\n",
    "        print('Key not found in', place)"
   ]
  },
  {
   "attachments": {},
   "cell_type": "markdown",
   "metadata": {},
   "source": [
    "**Note For continue and break Statements:**\n",
    "\n",
    "The continue and break statements are primarily used within loops in Python. While they are not limited to loops exclusively, their main purpose is to control the flow of loop iterations and terminate or skip certain iterations based on specific conditions."
   ]
  },
  {
   "attachments": {},
   "cell_type": "markdown",
   "metadata": {},
   "source": [
    "## **range() Function**\n",
    "The range() function in Python is a built-in function used to generate a sequence of numbers. It is commonly used with loops to iterate over a specific range of numbers. The range() function can take up to three arguments: start, stop, and step.\n",
    "\n",
    "The range() function is often used with loops, especially `for` loops, to iterate over a specific range of numbers. It provides a convenient way to generate sequences of integers and control the flow of iterations in loops.\n",
    "\n",
    "**The basic syntax of the range() function is as follows:**"
   ]
  },
  {
   "cell_type": "code",
   "execution_count": 12,
   "metadata": {},
   "outputs": [],
   "source": [
    "#range(stop)\n",
    "#range(start, stop)\n",
    "#range(start, stop, step)"
   ]
  },
  {
   "attachments": {},
   "cell_type": "markdown",
   "metadata": {},
   "source": [
    "- **start (optional):** The starting value of the sequence. If omitted, the sequence starts from 0.\n",
    "- **stop:** The ending value of the sequence. The range() function will generate numbers up to, but not including, this value.\n",
    "- **step (optional):** The increment between each number in the sequence. If omitted, the default step is 1."
   ]
  },
  {
   "cell_type": "code",
   "execution_count": null,
   "metadata": {},
   "outputs": [],
   "source": [
    "# Generating a sequence of numbers from 0 to 9 (exclusive):\n",
    "for i in range(10): # start from 0 to 9\n",
    "    print(i)\n",
    "# Generating a sequence of numbers from 5 to 9 (exclusive):\n",
    "for i in range(5, 10): # start from 5 to 9\n",
    "    print(i)\n",
    "# Generating a sequence of even numbers from 0 to 10:\n",
    "for i in range(0, 11, 2): # start from 0 to 10, step 2 (even numbers)\n",
    "    print(i)\n",
    "# Generating a sequence of numbers in reverse order from 10 to 1:\n",
    "for i in range(10, 0, -1): # start from 10 to 1, step -1 (reverse order)\n",
    "    print(i)"
   ]
  },
  {
   "attachments": {},
   "cell_type": "markdown",
   "metadata": {},
   "source": [
    "## **Exercises**"
   ]
  },
  {
   "attachments": {},
   "cell_type": "markdown",
   "metadata": {},
   "source": [
    "### **Exercise #1:**\n",
    "\n",
    "After flipping a coin 10 times you got this result,\n",
    "\n",
    "result = [\"heads\",\"tails\",\"tails\",\"heads\",\"tails\",\"heads\",\"heads\",\"tails\",\"tails\",\"tails\"]\n",
    "\n",
    "Using for loop figure out how many times you got heads."
   ]
  },
  {
   "cell_type": "code",
   "execution_count": 52,
   "metadata": {},
   "outputs": [
    {
     "name": "stdout",
     "output_type": "stream",
     "text": [
      "You got heads 4 times\n"
     ]
    }
   ],
   "source": [
    "results = [\"heads\",\"tails\",\"tails\",\"heads\",\"tails\",\"heads\",\"heads\",\"tails\",\"tails\",\"tails\"]\n",
    "count = 0\n",
    "for side in results:\n",
    "    if side == \"heads\":\n",
    "        count += 1\n",
    "print(\"You got heads\", count, \"times\")"
   ]
  },
  {
   "attachments": {},
   "cell_type": "markdown",
   "metadata": {},
   "source": [
    "### **Exercise #2:**\n",
    "Print square of all numbers between 1 to 10 except even numbers."
   ]
  },
  {
   "cell_type": "code",
   "execution_count": 23,
   "metadata": {},
   "outputs": [
    {
     "name": "stdout",
     "output_type": "stream",
     "text": [
      "The square of 1 is 1\n",
      "The square of 3 is 9\n",
      "The square of 5 is 25\n",
      "The square of 7 is 49\n",
      "The square of 9 is 81\n"
     ]
    }
   ],
   "source": [
    "for num in range(1, 11, 2):\n",
    "    print(\"The square of\", num, \"is\", num*num) # or num**2"
   ]
  },
  {
   "attachments": {},
   "cell_type": "markdown",
   "metadata": {},
   "source": [
    "### **Exercise #3:**\n",
    "Your monthly expense list (from Jan to May) looks like this,\n",
    "\n",
    "expense_list = [2340, 2500, 2100, 3100, 2980]\n",
    "\n",
    "Write a program that asks you to enter an expense amount and program should tell you in which month that expense occurred. If expense is not found then it should print that as well."
   ]
  },
  {
   "cell_type": "code",
   "execution_count": 31,
   "metadata": {},
   "outputs": [
    {
     "name": "stdout",
     "output_type": "stream",
     "text": [
      "Your expense of 3100 is in April\n"
     ]
    }
   ],
   "source": [
    "expense_list = [2340, 2500, 2100, 3100, 2980]\n",
    "expense_month = ['January', 'February', 'March', 'April', 'May']\n",
    "amount = int(input('Enter your expense amount: '))\n",
    "if amount in expense_list:\n",
    "    print(f'Your expense of {amount} is in {expense_month[expense_list.index(amount)]}')"
   ]
  },
  {
   "attachments": {},
   "cell_type": "markdown",
   "metadata": {},
   "source": [
    "### **Exercise #4:**\n",
    "Lets say you are running a 5 km race. Write a program that:\n",
    "\n",
    "1. Upon completing each 1 km asks you \"are you tired?\".\n",
    "2. If you reply \"yes\" then it should break and print \"you didn't finish the race\".\n",
    "3. If you reply \"no\" then it should continue and ask \"are you tired\" on every km.\n",
    "4. If you finish all 5 km then it should print congratulations message."
   ]
  },
  {
   "cell_type": "code",
   "execution_count": 46,
   "metadata": {},
   "outputs": [
    {
     "name": "stdout",
     "output_type": "stream",
     "text": [
      "Congratulations! You've finished your 5 kilometers race :)\n"
     ]
    }
   ],
   "source": [
    "km = 1\n",
    "while km <= 5:\n",
    "    if km == 5:\n",
    "        print(\"Congratulations! You've finished your 5 kilometers race :)\")\n",
    "    else:\n",
    "        tired = input(f\"You've ran {km}km. Are you tired? Type yes/no: \")\n",
    "        if tired == \"yes\":\n",
    "            print(f\"You ran {km}km and didn't finish the race :(\")\n",
    "            break\n",
    "    km += 1"
   ]
  },
  {
   "attachments": {},
   "cell_type": "markdown",
   "metadata": {},
   "source": [
    "### **Exercise #5:**\n",
    "Write a program that prints following shape:\n",
    "\n",
    "```\n",
    "*\n",
    "**\n",
    "***\n",
    "****\n",
    "*****\n",
    "```"
   ]
  },
  {
   "cell_type": "code",
   "execution_count": 50,
   "metadata": {},
   "outputs": [
    {
     "name": "stdout",
     "output_type": "stream",
     "text": [
      "*\n",
      "**\n",
      "***\n",
      "****\n",
      "*****\n"
     ]
    }
   ],
   "source": [
    "for i in range(5):\n",
    "    print('*' * (i+1))"
   ]
  },
  {
   "attachments": {},
   "cell_type": "markdown",
   "metadata": {},
   "source": [
    "### **Exercise #6:**\n",
    "Write a program that generates the first 10 numbers in the Fibonacci sequence. The Fibonacci sequence starts with 0 and 1, and each subsequent number is the sum of the two preceding numbers. Print the sequence as a list."
   ]
  },
  {
   "cell_type": "code",
   "execution_count": 62,
   "metadata": {},
   "outputs": [
    {
     "name": "stdout",
     "output_type": "stream",
     "text": [
      "[0, 1, 1, 2, 3, 5, 8, 13, 21, 34]\n"
     ]
    }
   ],
   "source": [
    "# Write a program that generates the first 10 numbers in the Fibonacci sequence. The Fibonacci sequence starts with 0 and 1, and each subsequent number is the sum of the two preceding numbers. Print the sequence as a list.\n",
    "fibonacci = [0, 1]\n",
    "for i in range(8):\n",
    "    fibonacci.append(fibonacci[-1] + fibonacci[-2]) # adds the sum of the last two numbers in the list\n",
    "print(fibonacci)"
   ]
  }
 ],
 "metadata": {
  "kernelspec": {
   "display_name": "py310",
   "language": "python",
   "name": "python3"
  },
  "language_info": {
   "codemirror_mode": {
    "name": "ipython",
    "version": 3
   },
   "file_extension": ".py",
   "mimetype": "text/x-python",
   "name": "python",
   "nbconvert_exporter": "python",
   "pygments_lexer": "ipython3",
   "version": "3.10.12"
  },
  "orig_nbformat": 4
 },
 "nbformat": 4,
 "nbformat_minor": 2
}
