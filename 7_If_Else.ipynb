{
 "cells": [
  {
   "attachments": {},
   "cell_type": "markdown",
   "metadata": {},
   "source": [
    "# **Conditional Statements**\n",
    "Conditional statements in programming are used to make decisions based on certain conditions. They allow the program to execute different blocks of code depending on whether a condition is true or false."
   ]
  },
  {
   "attachments": {},
   "cell_type": "markdown",
   "metadata": {},
   "source": [
    "## **Types Of Conditional Statements**\n",
    "In Python, the two primary types of conditional statements are the if statement and the if-else statement. Other than these there is elif (else-if) statement as well."
   ]
  },
  {
   "attachments": {},
   "cell_type": "markdown",
   "metadata": {},
   "source": [
    "### **if Statement:**\n",
    "The if statement is used to execute a block of code if a given condition is true. If the condition evaluates to True, the code inside the if block will be executed. If the condition is False, the code block will be skipped.\n",
    "\n",
    "**The syntax for the if statement is as follows:**"
   ]
  },
  {
   "cell_type": "code",
   "execution_count": 92,
   "metadata": {},
   "outputs": [
    {
     "name": "stdout",
     "output_type": "stream",
     "text": [
      "x is greater than 5\n"
     ]
    }
   ],
   "source": [
    "#if condition:\n",
    "    # Code to be executed if the condition is true\n",
    "#Example\n",
    "x = 10\n",
    "if x > 5:\n",
    "    print(\"x is greater than 5\")"
   ]
  },
  {
   "attachments": {},
   "cell_type": "markdown",
   "metadata": {},
   "source": [
    "### **if-else Statement:**\n",
    "The if-else statement is used when you want to execute one block of code if a condition is true, and another block of code if the condition is false. If the condition evaluates to True, the code inside the if block will be executed, and the code inside the else block will be skipped. If the condition is False, the code inside the else block will be executed, and the code inside the if block will be skipped.\n",
    "\n",
    "**The syntax for the if-else statement is as follows:**"
   ]
  },
  {
   "cell_type": "code",
   "execution_count": 93,
   "metadata": {},
   "outputs": [
    {
     "name": "stdout",
     "output_type": "stream",
     "text": [
      "x is odd\n"
     ]
    }
   ],
   "source": [
    "#if condition:\n",
    "    # Code to be executed if the condition is true\n",
    "#else:\n",
    "    # Code to be executed if the condition is false\n",
    "#Example\n",
    "x = 3\n",
    "if x % 2 == 0:\n",
    "    print(\"x is even\")\n",
    "else:\n",
    "    print(\"x is odd\")"
   ]
  },
  {
   "attachments": {},
   "cell_type": "markdown",
   "metadata": {},
   "source": [
    "### **elif Statement:**\n",
    "The elif (short for \"else if\") statement is used to add additional conditions after an if statement. It allows you to check for multiple conditions and execute different blocks of code based on the first true condition encountered. The elif statement is optional and can appear multiple times after an if statement. When a true condition is encountered, the corresponding code block will be executed, and the rest of the elif and else blocks will be skipped.\n",
    "\n",
    "**The syntax for the elif statement is as follows:**"
   ]
  },
  {
   "cell_type": "code",
   "execution_count": 94,
   "metadata": {},
   "outputs": [
    {
     "name": "stdout",
     "output_type": "stream",
     "text": [
      "x is positive\n"
     ]
    }
   ],
   "source": [
    "#if condition1:\n",
    "    # Code to be executed if condition1 is true\n",
    "#elif condition2:\n",
    "    # Code to be executed if condition2 is true\n",
    "#elif condition3:\n",
    "    # Code to be executed if condition3 is true\n",
    "...\n",
    "#else:\n",
    "    # Code to be executed if none of the above conditions are true\n",
    "#Example\n",
    "x = 10\n",
    "if x > 0:\n",
    "    print(\"x is positive\")\n",
    "elif x < 0:\n",
    "    print(\"x is negative\")\n",
    "else:\n",
    "    print(\"x is zero\")"
   ]
  },
  {
   "attachments": {},
   "cell_type": "markdown",
   "metadata": {},
   "source": [
    "## **Exercises**"
   ]
  },
  {
   "attachments": {},
   "cell_type": "markdown",
   "metadata": {},
   "source": [
    "### **Exercise 1: Age Verification**\n",
    "Write a Python program that prompts the user to enter their age. Based on the age entered, print one of the following messages:\n",
    "\n",
    "1. If age is less than 18, print \"You are a minor.\"\n",
    "2. If age is between 18 and 64 (inclusive), print \"You are an adult.\"\n",
    "3. If age is 65 or above, print \"You are a senior citizen.\""
   ]
  },
  {
   "cell_type": "code",
   "execution_count": 95,
   "metadata": {},
   "outputs": [
    {
     "name": "stdout",
     "output_type": "stream",
     "text": [
      "You are an adult.\n"
     ]
    }
   ],
   "source": [
    "age = int(input(\"Enter your age in digits i.e. 10, 20, 22 etc.: \"))\n",
    "\n",
    "if age < 18 and age > 0:\n",
    "    print(\"You are a minor.\")\n",
    "elif age >= 18 and age <= 64:\n",
    "    print(\"You are an adult.\")\n",
    "elif age >= 65:\n",
    "    print(\"You are a senior citizen.\")\n",
    "else:\n",
    "    print(\"Enter a valid age.\")"
   ]
  },
  {
   "attachments": {},
   "cell_type": "markdown",
   "metadata": {},
   "source": [
    "### **Exercise 2: Palindrome Checker**\n",
    "Write a program that takes a word as input from the user and checks if it is a palindrome (reads the same forwards and backward). Print \"It's a palindrome\" or \"It's not a palindrome.\""
   ]
  },
  {
   "cell_type": "code",
   "execution_count": 96,
   "metadata": {},
   "outputs": [
    {
     "name": "stdout",
     "output_type": "stream",
     "text": [
      "The word is a palindrome.\n"
     ]
    }
   ],
   "source": [
    "palindrome = input(\"Enter a word: \")\n",
    "if palindrome == palindrome[::-1]: # [::-1] reverses the string, this is called string slicing\n",
    "    print(\"The word is a palindrome.\")\n",
    "else:\n",
    "    print(\"The word is not a palindrome.\")"
   ]
  },
  {
   "attachments": {},
   "cell_type": "markdown",
   "metadata": {},
   "source": [
    "### **Exercise 3: Multiplier Checker**\n",
    "Write a Python program that takes two numbers as input and checks if the first number is a multiple of the second number. Print an appropriate message based on the result."
   ]
  },
  {
   "cell_type": "code",
   "execution_count": 97,
   "metadata": {},
   "outputs": [
    {
     "name": "stdout",
     "output_type": "stream",
     "text": [
      "The first number is not a multiple of the second number.\n"
     ]
    }
   ],
   "source": [
    "num1 = int(input(\"Enter the first number: \"))\n",
    "num2 = int(input(\"Enter the second number: \"))\n",
    "if num1 % num2 == 0: # if num1 is divisible by num2, then num1 % num2 will be 0\n",
    "    print(\"The first number is a multiple of the second number.\")\n",
    "else:\n",
    "    print(\"The first number is not a multiple of the second number.\")"
   ]
  },
  {
   "attachments": {},
   "cell_type": "markdown",
   "metadata": {},
   "source": [
    "### **Exercise 4: Leap Year Checker**\n",
    "Write a Python program to determine whether a given year is a leap year or not. A leap year is divisible by 4 but not divisible by 100. Print an appropriate message based on the input."
   ]
  },
  {
   "cell_type": "code",
   "execution_count": 98,
   "metadata": {},
   "outputs": [
    {
     "name": "stdout",
     "output_type": "stream",
     "text": [
      "The year is not a leap year.\n"
     ]
    }
   ],
   "source": [
    "year = int(input(\"Enter a year i.e 2002, 2023 etc.: \"))\n",
    "if year%4 == 0:\n",
    "    if year%100 != 0:\n",
    "        print(\"The year is a leap year.\")\n",
    "    else:\n",
    "        print(\"The year is not a leap year.\")\n",
    "else:\n",
    "    print(\"The year is not a leap year.\")"
   ]
  },
  {
   "attachments": {},
   "cell_type": "markdown",
   "metadata": {},
   "source": [
    "### **Exercise 5: Password Checker**\n",
    "Create a program that asks the user to enter a password. Check if the password meets the following criteria: at least 8 characters long and contains at least one uppercase letter, one lowercase letter, and one special character (e.g., @, #, $, %). Print \"Password is valid\" or \"Password is invalid\" accordingly."
   ]
  },
  {
   "cell_type": "code",
   "execution_count": 99,
   "metadata": {},
   "outputs": [
    {
     "name": "stdout",
     "output_type": "stream",
     "text": [
      "Password is valid.\n"
     ]
    }
   ],
   "source": [
    "password = input(\"Enter your password: \")\n",
    "special_chars = ['!', '$', '@', '#', '%']\n",
    "password_accepted = False\n",
    "if len(password) >= 8:\n",
    "    if any(char.isupper() for char in password):\n",
    "        if any(char.islower() for char in password):\n",
    "            if any(char in special_chars for char in password):\n",
    "                password_accepted = True\n",
    "            else:\n",
    "                print(\"Password must contain a special character\")\n",
    "        else:\n",
    "            print(\"Password must contain a lowercase letter\")\n",
    "    else:\n",
    "        print(\"Password must contain an uppercase letter\")\n",
    "else:\n",
    "    print(\"Password must be at least 8 characters long\")\n",
    "if password_accepted:\n",
    "    print(\"Password is valid.\")\n",
    "else:\n",
    "    print(\"Password is invalid.\")"
   ]
  }
 ],
 "metadata": {
  "kernelspec": {
   "display_name": "py310",
   "language": "python",
   "name": "python3"
  },
  "language_info": {
   "codemirror_mode": {
    "name": "ipython",
    "version": 3
   },
   "file_extension": ".py",
   "mimetype": "text/x-python",
   "name": "python",
   "nbconvert_exporter": "python",
   "pygments_lexer": "ipython3",
   "version": "3.10.12"
  },
  "orig_nbformat": 4
 },
 "nbformat": 4,
 "nbformat_minor": 2
}
