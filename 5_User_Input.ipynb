{
 "cells": [
  {
   "attachments": {},
   "cell_type": "markdown",
   "metadata": {},
   "source": [
    "# **User Input**\n",
    "In Python, you can take user input from the keyboard using the input() function. The input() function waits for the user to enter some text and returns the entered value as a string. You can then convert the input to the desired data type using type casting."
   ]
  },
  {
   "attachments": {},
   "cell_type": "markdown",
   "metadata": {},
   "source": [
    "## **Types Of User Input**\n",
    "Let's explore the different types of user input and how to handle them:"
   ]
  },
  {
   "attachments": {},
   "cell_type": "markdown",
   "metadata": {},
   "source": [
    "### **String Input:**\n",
    "By default, the input() function treats the user input as a string. You can directly store the user input in a variable and work with it as a string:"
   ]
  },
  {
   "cell_type": "code",
   "execution_count": 3,
   "metadata": {},
   "outputs": [
    {
     "name": "stdout",
     "output_type": "stream",
     "text": [
      "Hello, Umer Mansoor\n"
     ]
    }
   ],
   "source": [
    "name = input(\"Enter your name: \")\n",
    "print(\"Hello, \" + name)  # Output: Hello, [user_input]"
   ]
  },
  {
   "attachments": {},
   "cell_type": "markdown",
   "metadata": {},
   "source": [
    "### **Integer Input:**\n",
    "If you want to take integer input from the user, you need to convert the input string to an integer using the int() function:"
   ]
  },
  {
   "cell_type": "code",
   "execution_count": 4,
   "metadata": {},
   "outputs": [
    {
     "name": "stdout",
     "output_type": "stream",
     "text": [
      "You are 22 years old.\n"
     ]
    }
   ],
   "source": [
    "age = int(input(\"Enter your age: \"))\n",
    "print(\"You are\", age, \"years old.\")  # Output: You are [user_input] years old."
   ]
  },
  {
   "attachments": {},
   "cell_type": "markdown",
   "metadata": {},
   "source": [
    "### **Float Input:**\n",
    "To take float input from the user, use the float() function for type casting:"
   ]
  },
  {
   "cell_type": "code",
   "execution_count": 5,
   "metadata": {},
   "outputs": [
    {
     "name": "stdout",
     "output_type": "stream",
     "text": [
      "Your height is 165.0 meters.\n"
     ]
    }
   ],
   "source": [
    "height = float(input(\"Enter your height (in meters): \"))\n",
    "print(\"Your height is\", height, \"meters.\")  # Output: Your height is [user_input] meters."
   ]
  },
  {
   "attachments": {},
   "cell_type": "markdown",
   "metadata": {},
   "source": [
    "### **Boolean Input:**\n",
    "For boolean input, you can check specific conditions and convert the user input to a boolean value:"
   ]
  },
  {
   "cell_type": "code",
   "execution_count": 4,
   "metadata": {},
   "outputs": [
    {
     "name": "stdout",
     "output_type": "stream",
     "text": [
      "Likes Python: True\n"
     ]
    }
   ],
   "source": [
    "user_input = input(\"Do you like Python? (yes/no): \")\n",
    "\n",
    "# Don't worry about the following lines for now, we will learn about them later.\n",
    "if user_input.lower() == \"yes\":\n",
    "    likes_python = True\n",
    "    print(\"Likes Python:\", likes_python)  # Output: Likes Python: True\n",
    "elif user_input.lower() == \"no\":\n",
    "    likes_python = False\n",
    "    print(\"Likes Python:\", likes_python)  # Output: Likes Python: False\n",
    "else:\n",
    "    print(\"Invalid Input\")"
   ]
  },
  {
   "attachments": {},
   "cell_type": "markdown",
   "metadata": {},
   "source": [
    "### **Multiple Inputs:**\n",
    "You can also take multiple inputs from the user on a single line, separated by spaces, and use the split() method to get individual values:"
   ]
  },
  {
   "cell_type": "code",
   "execution_count": 7,
   "metadata": {},
   "outputs": [
    {
     "name": "stdout",
     "output_type": "stream",
     "text": [
      "Numbers entered: 1 3 5\n"
     ]
    }
   ],
   "source": [
    "values = input(\"Enter three numbers (separated by spaces): \")\n",
    "num1, num2, num3 = values.split()\n",
    "print(\"Numbers entered:\", num1, num2, num3)  # Output: Numbers entered: [user_input] [user_input] [user_input]"
   ]
  },
  {
   "attachments": {},
   "cell_type": "markdown",
   "metadata": {},
   "source": [
    "## **Exercises For Practicing User Input**"
   ]
  },
  {
   "attachments": {},
   "cell_type": "markdown",
   "metadata": {},
   "source": [
    "### **Exercise 1: Hello, [Name]**\n",
    "Write a program that takes the user's name as input and prints a greeting message with their name."
   ]
  },
  {
   "cell_type": "code",
   "execution_count": 1,
   "metadata": {},
   "outputs": [
    {
     "name": "stdout",
     "output_type": "stream",
     "text": [
      "Hello, Umer! Have a good day.\n"
     ]
    }
   ],
   "source": [
    "name = input(\"Enter your name: \")\n",
    "print(\"Hello, \" + name + \"! Have a good day.\")  # Output: Hello, [user_input]! Have a good day."
   ]
  },
  {
   "attachments": {},
   "cell_type": "markdown",
   "metadata": {},
   "source": [
    "### **Exercise 2: Simple Calculator**\n",
    "Create a program that takes two numbers as input from the user and performs basic arithmetic operations (addition, subtraction, multiplication, division) on them."
   ]
  },
  {
   "cell_type": "code",
   "execution_count": 4,
   "metadata": {},
   "outputs": [
    {
     "name": "stdout",
     "output_type": "stream",
     "text": [
      "Result: 10 % 3 = 1\n"
     ]
    }
   ],
   "source": [
    "num1 = input(\"Enter first number: \")\n",
    "num2 = input(\"Enter second number: \")\n",
    "op = input(\"Enter operator (+, -, *, /, %): \")\n",
    "print(\"Result:\", num1, op, num2, \"=\", eval(num1 + op + num2))  # Output: Result: [num1] [op] [num2] = [result]\n",
    "# eval() evaluates a string as a line of Python."
   ]
  },
  {
   "attachments": {},
   "cell_type": "markdown",
   "metadata": {},
   "source": [
    "### **Exercise 3: Age Verification**\n",
    "Write a program that asks the user to enter their age. If the user is below 18 years old, print \"You are a minor.\" Otherwise, print \"You are an adult.\""
   ]
  },
  {
   "cell_type": "code",
   "execution_count": 7,
   "metadata": {},
   "outputs": [
    {
     "name": "stdout",
     "output_type": "stream",
     "text": [
      "You are an adult.\n"
     ]
    }
   ],
   "source": [
    "age = int(input(\"Enter your age: \"))\n",
    "# Don't worry about the following lines for now, we will learn about them later.\n",
    "if age < 18:\n",
    "    print(\"You are a minor.\")\n",
    "else:\n",
    "    print(\"You are an adult.\")"
   ]
  },
  {
   "attachments": {},
   "cell_type": "markdown",
   "metadata": {},
   "source": [
    "### **Exercise 4: Temperature Conversion**\n",
    "Create a program that takes the temperature in Celsius as input and converts it to Fahrenheit using the formula: F = (C * 9/5) + 32. Print the converted temperature."
   ]
  },
  {
   "cell_type": "code",
   "execution_count": 8,
   "metadata": {},
   "outputs": [
    {
     "name": "stdout",
     "output_type": "stream",
     "text": [
      "28 °C = 82.4 °F\n"
     ]
    }
   ],
   "source": [
    "celsius = int(input(\"Enter temperature in Celsius: \"))\n",
    "fahrenheit = (celsius * 9/5) + 32\n",
    "print(celsius, \"°C =\", fahrenheit, \"°F\")  # Output: [celsius] °C = [fahrenheit] °F"
   ]
  }
 ],
 "metadata": {
  "kernelspec": {
   "display_name": "py310",
   "language": "python",
   "name": "python3"
  },
  "language_info": {
   "codemirror_mode": {
    "name": "ipython",
    "version": 3
   },
   "file_extension": ".py",
   "mimetype": "text/x-python",
   "name": "python",
   "nbconvert_exporter": "python",
   "pygments_lexer": "ipython3",
   "version": "3.11.5"
  },
  "orig_nbformat": 4
 },
 "nbformat": 4,
 "nbformat_minor": 2
}
