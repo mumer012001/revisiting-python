{
 "cells": [
  {
   "attachments": {},
   "cell_type": "markdown",
   "metadata": {},
   "source": [
    "# **Strings & Strings Manipulation**\n",
    "In this notebook, I will cover essential concepts and techniques related to strings and their manipulation in Python. We will explore fundamental string operations, such as concatenation and slicing, as well as dive into more advanced topics like string formatting, and various string manipulation functions."
   ]
  },
  {
   "attachments": {},
   "cell_type": "markdown",
   "metadata": {},
   "source": [
    "## **Introduction**\n",
    "Strings in Python are sequences of characters and are used to represent textual data. They are one of the fundamental data types in Python and are enclosed within single quotes ('...') or double quotes (\"...\") or triple quotes ('''...''' or \"\"\"...\"\"\"). Triple quotes are used for multi-line strings and can span across multiple lines.\n",
    "\n",
    "Here's a comprehensive overview of strings in Python:"
   ]
  },
  {
   "attachments": {},
   "cell_type": "markdown",
   "metadata": {},
   "source": [
    "### **Creating Strings:**\n",
    "You can create a string using single or double quotes, or triple quotes for multi-line strings:"
   ]
  },
  {
   "cell_type": "code",
   "execution_count": 16,
   "metadata": {},
   "outputs": [],
   "source": [
    "single_quoted = 'Hello, World!'\n",
    "double_quoted = \"Python is awesome!\"\n",
    "multi_line = '''This is a multi-line\n",
    "string in Python.'''\n",
    "also_multi_line = \"\"\"This is also a\n",
    "multi-line string in Python.\"\"\""
   ]
  },
  {
   "attachments": {},
   "cell_type": "markdown",
   "metadata": {},
   "source": [
    "## **Strings Manipulation**\n",
    "String manipulation refers to the process of modifying and processing strings in Python. It involves various operations like concatenation, slicing, replacing, and formatting, enabling programmers to efficiently manipulate textual data for tasks such as data cleaning, formatting, and text processing."
   ]
  },
  {
   "attachments": {},
   "cell_type": "markdown",
   "metadata": {},
   "source": [
    "### **String Concatenation:**\n",
    "Strings can be concatenated (joined together) using the + operator:"
   ]
  },
  {
   "cell_type": "code",
   "execution_count": 18,
   "metadata": {},
   "outputs": [
    {
     "name": "stdout",
     "output_type": "stream",
     "text": [
      "Hello, Umer!\n"
     ]
    }
   ],
   "source": [
    "greeting = \"Hello\"\n",
    "name = \"Umer\"\n",
    "message = greeting + \", \" + name + \"!\"\n",
    "print(message)       # Output: 'Hello, Umer!'"
   ]
  },
  {
   "attachments": {},
   "cell_type": "markdown",
   "metadata": {},
   "source": [
    "### **String Slicing:**\n",
    "You can extract a substring from a string using slicing. Slicing is done using a colon (:) between the start and end index:"
   ]
  },
  {
   "cell_type": "code",
   "execution_count": 2,
   "metadata": {},
   "outputs": [
    {
     "name": "stdout",
     "output_type": "stream",
     "text": [
      "Hello\n"
     ]
    }
   ],
   "source": [
    "message = \"Hello, World!\"\n",
    "print(message[0:5])   # Output: 'Hello', 0 is inclusive, 5 is exclusive"
   ]
  },
  {
   "attachments": {},
   "cell_type": "markdown",
   "metadata": {},
   "source": [
    "### **Accessing Characters in a String:**\n",
    "You can access individual characters in a string using indexing. Indexing starts from 0 for the first character, -1 for the last character, -2 for the second-last character, and so on:"
   ]
  },
  {
   "cell_type": "code",
   "execution_count": 47,
   "metadata": {},
   "outputs": [
    {
     "name": "stdout",
     "output_type": "stream",
     "text": [
      "H\n",
      "l\n"
     ]
    }
   ],
   "source": [
    "message = \"Hello, World!\"\n",
    "print(message[0])     # Output: 'H', 0th index\n",
    "print(message[-3])    # Output: 'l', 3rd last index"
   ]
  },
  {
   "attachments": {},
   "cell_type": "markdown",
   "metadata": {},
   "source": [
    "### **String Formatting:**\n",
    "String formatting allows you to create dynamic strings by inserting values into placeholders. Python supports both the old % operator and the newer .format() method for string formatting. The more modern f-strings (formatted strings) are also widely used in Python 3.6 and above:"
   ]
  },
  {
   "attachments": {},
   "cell_type": "markdown",
   "metadata": {},
   "source": [
    "#### **Using f-strings (formatted strings):**"
   ]
  },
  {
   "cell_type": "code",
   "execution_count": 43,
   "metadata": {},
   "outputs": [
    {
     "name": "stdout",
     "output_type": "stream",
     "text": [
      "My name is Umer, and I am 22 years old.\n"
     ]
    }
   ],
   "source": [
    "name = \"Umer\"\n",
    "age = 22\n",
    "message = f\"My name is {name}, and I am {age} years old.\"\n",
    "print(message)   # Output: 'My name is Umer, and I am 22 years old.'"
   ]
  },
  {
   "attachments": {},
   "cell_type": "markdown",
   "metadata": {},
   "source": [
    "#### **Using .format() method:**"
   ]
  },
  {
   "cell_type": "code",
   "execution_count": 45,
   "metadata": {},
   "outputs": [
    {
     "name": "stdout",
     "output_type": "stream",
     "text": [
      "My name is Umer, and I am 22 years old.\n"
     ]
    }
   ],
   "source": [
    "name = \"Umer\"\n",
    "age = 22\n",
    "message = \"My name is {}, and I am {} years old.\".format(name, age)\n",
    "print(message)   # Output: 'My name is Umer, and I am 22 years old.'"
   ]
  },
  {
   "attachments": {},
   "cell_type": "markdown",
   "metadata": {},
   "source": [
    "#### **Using % operator:**"
   ]
  },
  {
   "cell_type": "code",
   "execution_count": 46,
   "metadata": {},
   "outputs": [
    {
     "name": "stdout",
     "output_type": "stream",
     "text": [
      "My name is Umer, and I am 22 years old.\n"
     ]
    }
   ],
   "source": [
    "name = \"Umer\"\n",
    "age = 22\n",
    "message = \"My name is %s, and I am %d years old.\" % (name, age) # %s for string, %d for integer, it is from python 2\n",
    "print(message)   # Output: 'My name is Umer, and I am 22 years old.'"
   ]
  },
  {
   "attachments": {},
   "cell_type": "markdown",
   "metadata": {},
   "source": [
    "### **String Escape Characters:**\n",
    "Escape characters start with a backslash (\\\\) and are used to represent special characters or create newlines, tabs, etc. Some common escape characters are \\n (newline), \\t (tab), \\' (single quote), \\\" (double quote), and \\\\\\ (backslash):"
   ]
  },
  {
   "cell_type": "code",
   "execution_count": 38,
   "metadata": {},
   "outputs": [
    {
     "name": "stdout",
     "output_type": "stream",
     "text": [
      "Hello\n",
      "World!\n",
      "This is a single quote: '\n",
      "This is a tab \t!\n",
      "This is a backslash: \\\n",
      "This is a backspace: Hi I am Umer\n",
      "This is a forward slash: /\n"
     ]
    }
   ],
   "source": [
    "message = \"Hello\\nWorld!\"\n",
    "print(message)  # Output:   # Hello\n",
    "                            # World!\n",
    "\n",
    "message = \"This is a single quote: \\'\"\n",
    "print(message)  # Output: This is a single quote: '\n",
    "\n",
    "message = \"This is a tab \\t\" + \"!\"\n",
    "print(message)  # Output: This is a tab  !\n",
    "\n",
    "message = \"This is a backslash: \\\\\"\n",
    "print(message)  # Output: This is a backslash: \\\n",
    "    \n",
    "message = \"This is a backspace: Hi I am Umers\\b\"\n",
    "print(message)  # Output: This is a backspace: Hi I am Umer\n",
    "\n",
    "message = \"This is a forward slash: /\"\n",
    "print(message)  # Output: This is a forward slash: /, no need to escape"
   ]
  },
  {
   "attachments": {},
   "cell_type": "markdown",
   "metadata": {},
   "source": [
    "### **String Methods:**\n",
    "Python provides a wide range of built-in string methods for various string manipulations. Some common string methods include lower(), upper(), strip(), split(), replace(), and many more:"
   ]
  },
  {
   "cell_type": "code",
   "execution_count": 5,
   "metadata": {},
   "outputs": [
    {
     "name": "stdout",
     "output_type": "stream",
     "text": [
      "  python programming is fun!  \n",
      "  PYTHON PROGRAMMING IS FUN!  \n",
      "Python Programming is Fun!\n",
      "['Python', 'Programming', 'is', 'Fun!']\n",
      "  Python Programming is Cool!  \n"
     ]
    }
   ],
   "source": [
    "text = \"  Python Programming is Fun!  \"\n",
    "print(text.lower())              # Output: '  python programming is fun!  ' lower() converts a string to lowercase\n",
    "print(text.upper())              # Output: '  PYTHON PROGRAMMING IS FUN!  ' upper() converts a string to uppercase\n",
    "print(text.strip())              # Output: 'Python Programming is Fun!' strip() removes leading and trailing whitespaces\n",
    "print(text.split())              # Output: ['Python', 'Programming', 'is', 'Fun!'] split() splits a string into a list\n",
    "print(text.replace('Fun', 'Cool'))  # Output: '  Python Programming is Cool!  ' replace() replaces a substring"
   ]
  },
  {
   "attachments": {},
   "cell_type": "markdown",
   "metadata": {},
   "source": [
    "**Note about methods: Methods are also known as functions, don't worry about them as I will cover them later.**"
   ]
  },
  {
   "attachments": {},
   "cell_type": "markdown",
   "metadata": {},
   "source": [
    "### **String Length:**\n",
    "The len() function is used to get the length (number of characters) of a string:"
   ]
  },
  {
   "cell_type": "code",
   "execution_count": 24,
   "metadata": {},
   "outputs": [
    {
     "name": "stdout",
     "output_type": "stream",
     "text": [
      "13\n",
      "16\n"
     ]
    }
   ],
   "source": [
    "message = \"Hello, World!\"\n",
    "length = len(message)\n",
    "print(length)         # Output: 13\n",
    "intro = \"My name is Umer!\"\n",
    "print(len(intro))     # Output: 16"
   ]
  },
  {
   "attachments": {},
   "cell_type": "markdown",
   "metadata": {},
   "source": [
    "### **String Operations:**\n",
    "Python supports various string operations, such as checking if a substring exists in a string, counting occurrences of a character or substring, and checking if a string starts or ends with a specific character or substring:"
   ]
  },
  {
   "cell_type": "code",
   "execution_count": 22,
   "metadata": {},
   "outputs": [
    {
     "name": "stdout",
     "output_type": "stream",
     "text": [
      "True\n",
      "2\n",
      "True\n",
      "False\n",
      "7\n"
     ]
    }
   ],
   "source": [
    "text = \"Python is fun and Python is powerful\"\n",
    "print(\"Python\" in text)           # Output: True\n",
    "print(text.count(\"Python\"))       # Output: 2\n",
    "print(text.startswith(\"Python\"))  # Output: True\n",
    "print(text.endswith(\"power\"))     # Output: False (it's 'powerful' not 'power')\n",
    "print(text.find(\"is\"))            # Output: 7 (index of first occurrence), index starts from 0"
   ]
  },
  {
   "attachments": {},
   "cell_type": "markdown",
   "metadata": {},
   "source": [
    "## **Exercises**"
   ]
  },
  {
   "attachments": {},
   "cell_type": "markdown",
   "metadata": {},
   "source": [
    "### **Exercise #1**\n",
    "Create 3 variables to store street, city and country, now create address variable to store entire address. Use two ways of creating this variable, one using + operator and the other using f-string. Now Print the address in such a way that the street, city and country prints in a separate line"
   ]
  },
  {
   "cell_type": "code",
   "execution_count": 50,
   "metadata": {},
   "outputs": [
    {
     "name": "stdout",
     "output_type": "stream",
     "text": [
      "New Ansari Market,\n",
      "Pindi Gheb,\n",
      "Pakistan\n",
      "New Ansari Market,\n",
      "Pindi Gheb,\n",
      "Pakistan\n"
     ]
    }
   ],
   "source": [
    "street = \"New Ansari Market\"\n",
    "city = \"Pindi Gheb\"\n",
    "country = \"Pakistan\"\n",
    "# method 1 to create address variable\n",
    "address1 = street + \",\\n\" + city + \",\\n\" + country\n",
    "print(address1)\n",
    "# method 2 to create address variable\n",
    "address2 = f\"{street},\\n{city},\\n{country}\"\n",
    "print(address2)"
   ]
  },
  {
   "attachments": {},
   "cell_type": "markdown",
   "metadata": {},
   "source": [
    "### **Exercise #2**\n",
    "Create a variable to store the string \"Earth revolves around the sun\"\n",
    "- Print \"revolves\" using slice operator\n",
    "- Print \"sun\" using negative index"
   ]
  },
  {
   "cell_type": "code",
   "execution_count": 53,
   "metadata": {},
   "outputs": [
    {
     "name": "stdout",
     "output_type": "stream",
     "text": [
      "revolves \n",
      "sun\n"
     ]
    }
   ],
   "source": [
    "statement = \"Earth revolves around the sun\"\n",
    "print(statement[6:15])   # Output: revolves\n",
    "print(statement[-3:])     # Output: revolves around the Sun"
   ]
  },
  {
   "attachments": {},
   "cell_type": "markdown",
   "metadata": {},
   "source": [
    "### **Exercise #3**\n",
    "Create two variables to store how many fruits and vegetables you eat in a day. Now Print \"I eat x veggies and y fruits daily\" where x and y presents vegetables and fruits that you eat everyday. Use python f string for this."
   ]
  },
  {
   "cell_type": "code",
   "execution_count": 54,
   "metadata": {},
   "outputs": [
    {
     "name": "stdout",
     "output_type": "stream",
     "text": [
      "I eat 5 veggies and 3 fruits daily.\n"
     ]
    }
   ],
   "source": [
    "fruits = 3\n",
    "vegetables = 5\n",
    "print(f\"I eat {vegetables} veggies and {fruits} fruits daily.\")"
   ]
  },
  {
   "attachments": {},
   "cell_type": "markdown",
   "metadata": {},
   "source": [
    "### **Exercise #4**\n",
    "I have a string variable called s='maine 200 banana khaye'. This of course is a wrong statement, the correct statement is 'maine 10 samosa khaye'. Replace incorrect words in original string with new ones and print the new string. Also try to do this in one line."
   ]
  },
  {
   "cell_type": "code",
   "execution_count": 56,
   "metadata": {},
   "outputs": [
    {
     "name": "stdout",
     "output_type": "stream",
     "text": [
      "maine 10 samosa khaye\n"
     ]
    }
   ],
   "source": [
    "s = 'maine 200 banana khaye'\n",
    "s = s.replace('200 banana', '10 samosa')\n",
    "print(s)"
   ]
  }
 ],
 "metadata": {
  "kernelspec": {
   "display_name": "py310",
   "language": "python",
   "name": "python3"
  },
  "language_info": {
   "codemirror_mode": {
    "name": "ipython",
    "version": 3
   },
   "file_extension": ".py",
   "mimetype": "text/x-python",
   "name": "python",
   "nbconvert_exporter": "python",
   "pygments_lexer": "ipython3",
   "version": "3.10.12"
  },
  "orig_nbformat": 4
 },
 "nbformat": 4,
 "nbformat_minor": 2
}
