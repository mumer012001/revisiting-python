{
 "cells": [
  {
   "cell_type": "markdown",
   "metadata": {},
   "source": [
    "# **Functions In Python**\n",
    "Functions in Python are a fundamental concept and a critical building block in Python and in fact any programming. Functions are blocks of organized, reusable code designed to perform a specific, well-defined task. They help you break down your program into smaller, manageable pieces, making your code more modular, readable, and maintainable.\n",
    "\n",
    "## **Defining & Calling Functions:**\n",
    "You can define a function in python by using the def keyword and you can pass arguments to the function by placing them inside parenthesis (). Function names are usually written in the same way as variable names, i.e lower_case separated with underscore.\n",
    "\n",
    "You can call a function by simply writing the name of the function and passing it the required arguments if any. See the example code below:"
   ]
  },
  {
   "cell_type": "code",
   "execution_count": 3,
   "metadata": {},
   "outputs": [
    {
     "name": "stdout",
     "output_type": "stream",
     "text": [
      "Hello, Umer!\n"
     ]
    }
   ],
   "source": [
    "# Very simple function\n",
    "# Defining the function\n",
    "def greet(name): # \"greet\" is the name of function and \"name\" is the argument\n",
    "    print(f\"Hello, {name}!\")\n",
    "\n",
    "# Calling the function\n",
    "greet(input(\"Enter your name: \"))"
   ]
  },
  {
   "cell_type": "markdown",
   "metadata": {},
   "source": [
    "## **Return Statements:**\n",
    "Functions can return values using the return statement. You can return one or more values from a function. If no return statement is used, the function returns None."
   ]
  },
  {
   "cell_type": "code",
   "execution_count": 5,
   "metadata": {},
   "outputs": [
    {
     "name": "stdout",
     "output_type": "stream",
     "text": [
      "7\n"
     ]
    }
   ],
   "source": [
    "# add function that takes two arguments and returns their sum\n",
    "def add(x, y):\n",
    "    return x + y\n",
    "result = add(3, 4) # calling the function to store the return value in result\n",
    "print(result)"
   ]
  },
  {
   "cell_type": "code",
   "execution_count": 9,
   "metadata": {},
   "outputs": [
    {
     "name": "stdout",
     "output_type": "stream",
     "text": [
      "(7, 12)\n",
      "Sum = 11\n",
      "Product = 30\n"
     ]
    }
   ],
   "source": [
    "# simple function that take two arguments and returns their sum and product\n",
    "def add_mul(x, y):\n",
    "    return x + y, x * y\n",
    "result = add_mul(3, 4) # calling the function to store the return value in result\n",
    "print(result) # returns a tuple of sum and product\n",
    "\n",
    "# or we can unpack the tuple and store return values in two different variables\n",
    "sum, product = add_mul(5, 6)\n",
    "print(\"Sum =\", sum)\n",
    "print(\"Product =\", product)"
   ]
  },
  {
   "cell_type": "markdown",
   "metadata": {},
   "source": [
    "## **Function Documentation (Docstrings):**\n",
    "It's good practice to include a docstring (a brief description) within triple quotes as the first statement in your function. This serves as documentation for the function's purpose, parameters, and return values."
   ]
  },
  {
   "cell_type": "code",
   "execution_count": 11,
   "metadata": {},
   "outputs": [
    {
     "name": "stdout",
     "output_type": "stream",
     "text": [
      "The product of 5 and 6 is 30\n"
     ]
    }
   ],
   "source": [
    "def multiply(a, b):\n",
    "    \"\"\"\n",
    "    Multiply two numbers and return the result.\n",
    "\n",
    "    Args:\n",
    "        a (int or float): The first number.\n",
    "        b (int or float): The second number.\n",
    "\n",
    "    Returns:\n",
    "        int or float: The product of a and b.\n",
    "    \"\"\"\n",
    "    return a * b\n",
    "\n",
    "print(\"The product of 5 and 6 is\", multiply(5, 6))"
   ]
  },
  {
   "cell_type": "markdown",
   "metadata": {},
   "source": [
    "## **Function Scope:**\n",
    "\n",
    "As I mentioned in the very first Jupyter notebook of this repo, that variables defined within a function are local and have a limited scope. They are only accessible within the function.\n",
    "\n",
    "And variables that are defined outside of any function are global and can be accessed from anywhere in the program.\n",
    "\n",
    "### **Lifetime of Variables:**\n",
    "\n",
    "- Local variables are destroyed when the function call is complete.\n",
    "- Global variables persist throughout the program's execution."
   ]
  },
  {
   "cell_type": "code",
   "execution_count": 33,
   "metadata": {},
   "outputs": [
    {
     "name": "stdout",
     "output_type": "stream",
     "text": [
      "The value of global name: Umer\n",
      "The value of local name: Abdullah\n"
     ]
    },
    {
     "ename": "NameError",
     "evalue": "name 'last_name' is not defined",
     "output_type": "error",
     "traceback": [
      "\u001b[0;31m---------------------------------------------------------------------------\u001b[0m",
      "\u001b[0;31mNameError\u001b[0m                                 Traceback (most recent call last)",
      "\u001b[1;32m/home/umer/GitHub/revisiting-python/9_Functions.ipynb Cell 9\u001b[0m line \u001b[0;36m1\n\u001b[1;32m      <a href='vscode-notebook-cell://wsl%2Bubuntu/home/umer/GitHub/revisiting-python/9_Functions.ipynb#X11sdnNjb2RlLXJlbW90ZQ%3D%3D?line=8'>9</a>\u001b[0m name() \u001b[39m# calling the function num\u001b[39;00m\n\u001b[1;32m     <a href='vscode-notebook-cell://wsl%2Bubuntu/home/umer/GitHub/revisiting-python/9_Functions.ipynb#X11sdnNjb2RlLXJlbW90ZQ%3D%3D?line=10'>11</a>\u001b[0m \u001b[39m# Now I will try to print the value of last_name outside the function, this will give an error because of two reasons:\u001b[39;00m\n\u001b[1;32m     <a href='vscode-notebook-cell://wsl%2Bubuntu/home/umer/GitHub/revisiting-python/9_Functions.ipynb#X11sdnNjb2RlLXJlbW90ZQ%3D%3D?line=11'>12</a>\u001b[0m \u001b[39m# 1. last_name is a local variable defined inside the function name()\u001b[39;00m\n\u001b[1;32m     <a href='vscode-notebook-cell://wsl%2Bubuntu/home/umer/GitHub/revisiting-python/9_Functions.ipynb#X11sdnNjb2RlLXJlbW90ZQ%3D%3D?line=12'>13</a>\u001b[0m \u001b[39m# 2. local variables are destroyed after the function has finished executing\u001b[39;00m\n\u001b[0;32m---> <a href='vscode-notebook-cell://wsl%2Bubuntu/home/umer/GitHub/revisiting-python/9_Functions.ipynb#X11sdnNjb2RlLXJlbW90ZQ%3D%3D?line=13'>14</a>\u001b[0m \u001b[39mprint\u001b[39m(last_name) \u001b[39m# NameError: name 'last_name' is not defined\u001b[39;00m\n",
      "\u001b[0;31mNameError\u001b[0m: name 'last_name' is not defined"
     ]
    }
   ],
   "source": [
    "#Example of variable scope\n",
    "name = \"Umer\" # global scope\n",
    "print(\"The value of global name:\",name) # value will be printed Umer\n",
    "\n",
    "def name(): # defining a function named num\n",
    "    name = \"Abdullah\" # local scope\n",
    "    last_name = \"Mansoor\" # local scope\n",
    "    print(\"The value of local name:\",name) # value will be printed Mansoor\n",
    "name() # calling the function num\n",
    "\n",
    "# Now I will try to print the value of last_name outside the function, this will give an error because of two reasons:\n",
    "# 1. last_name is a local variable defined inside the function name()\n",
    "# 2. local variables are destroyed after the function has finished executing\n",
    "print(last_name) # NameError: name 'last_name' is not defined"
   ]
  },
  {
   "cell_type": "markdown",
   "metadata": {},
   "source": [
    "## **Types Of Arguments:**\n",
    "\n",
    "There are four types of arguments that can be passed to a function in Python:\n",
    "\n",
    "1. Default Arguments\n",
    "2. Keyword Arguments\n",
    "3. Positional Arguments\n",
    "4. Arbitrary/Variable Length Arguments\n",
    "   1. Arbitrary Positional Arguments\n",
    "   2. Arbitrary Keyword Arguments"
   ]
  },
  {
   "cell_type": "markdown",
   "metadata": {},
   "source": [
    "### **Default Arguments:**\n",
    "\n",
    "You can provide default values for function parameters. If an argument is not passed, the default value is used. See the example below to understand this better.\n",
    "\n",
    "**PS:** Beginner programmers like myself often find themselves interchangeably using the terms parameter and argument. However, these two terms are not the same. A parameter is a variable in a method definition. When a method is called, the arguments are the data you pass into the method's parameters."
   ]
  },
  {
   "cell_type": "code",
   "execution_count": 17,
   "metadata": {},
   "outputs": [
    {
     "name": "stdout",
     "output_type": "stream",
     "text": [
      "Hello, User!\n",
      "Hello, Umer Mansoor!\n"
     ]
    }
   ],
   "source": [
    "# Example of default argument, let's modify the greet function\n",
    "def greet(name=\"User\"): # \"User\" is the default argument\n",
    "    print(f\"Hello, {name}!\") # if no argument is passed, it will print \"Hello, User!\"\n",
    "\n",
    "greet() # calling the function without argument, i.e default argument will be used\n",
    "greet(\"Umer Mansoor\") # calling the function with argument"
   ]
  },
  {
   "cell_type": "markdown",
   "metadata": {},
   "source": [
    "### **Keyword Arguments:**\n",
    "\n",
    "When calling a function, you can use keyword arguments to specify which parameter you are providing a value for. During a function call, values passed through arguments don’t need to be in the order of parameters in the function definition. This can be achieved by keyword arguments. But all the keyword arguments should match the parameters in the function definition.\n",
    "\n",
    "See the example below to understand this better."
   ]
  },
  {
   "cell_type": "code",
   "execution_count": 3,
   "metadata": {},
   "outputs": [
    {
     "name": "stdout",
     "output_type": "stream",
     "text": [
      "Hello, Umer Mansoor!\n"
     ]
    }
   ],
   "source": [
    "def greet(first_name, last_name):\n",
    "    print(f\"Hello, {first_name} {last_name}!\")\n",
    "\n",
    "greet(last_name=\"Mansoor\", first_name=\"Umer\") # calling the function with keyword arguments"
   ]
  },
  {
   "cell_type": "markdown",
   "metadata": {},
   "source": [
    "### **Positional Arguments:**\n",
    "\n",
    "During a function call, values passed through arguments should be in the order of parameters in the function definition. This is called positional arguments."
   ]
  },
  {
   "cell_type": "code",
   "execution_count": 4,
   "metadata": {},
   "outputs": [
    {
     "name": "stdout",
     "output_type": "stream",
     "text": [
      "Hi, this is Muhammad Umer Mansoor from Pindi Gheb.\n"
     ]
    }
   ],
   "source": [
    "def intro(first_name, last_name, city):\n",
    "    print(f\"Hi, this is {first_name} {last_name} from {city}.\")\n",
    "    \n",
    "intro(\"Muhammad Umer\", \"Mansoor\", \"Pindi Gheb\")"
   ]
  },
  {
   "cell_type": "markdown",
   "metadata": {},
   "source": [
    "### **Important Things To Remember While Using Functions**\n",
    "\n",
    "1. Default arguments should follow non-default arguments.\n",
    "2. Keyword arguments should follow positional arguments.\n",
    "3. All the keyword arguments passed must match with the parameters of function and their order is not important.\n",
    "4. No argument should receive a value more than once.\n",
    "5. Default arguments are optional arguments.\n",
    "\n",
    "See the examples below to understand this better."
   ]
  },
  {
   "cell_type": "code",
   "execution_count": 12,
   "metadata": {},
   "outputs": [],
   "source": [
    "# 1. Default arguments should follow non-default arguments.\n",
    "def add(a=5,b,c): # SyntaxError: non-default argument follows default argument\n",
    "    return (a+b+c)\n",
    "\n",
    "# 2. Keyword arguments should follow positional arguments.\n",
    "def add(a,b,c):\n",
    "    return (a+b+c)\n",
    "print (add(a=10,3,4)) # SyntaxError: positional argument follows keyword argument\n",
    "\n",
    "# 3. All the keyword arguments passed must match with the parameters of function and their order is not important.\n",
    "def add(a,b,c):\n",
    "    return (a+b+c)\n",
    "print (add(a=10,b1=5,c=12)) # TypeError: add() got an unexpected keyword argument 'b1'\n",
    "\n",
    "# 4. No argument should receive a value more than once.\n",
    "def add(a,b,c):\n",
    "    return (a+b+c)\n",
    "print (add(a=10,b=5,b=10,c=12)) # SyntaxError: keyword argument repeated: b\n",
    "\n",
    "# 5. Default arguments are optional arguments.\n",
    "def add(a,b=5,c=10):\n",
    "    return (a+b+c)\n",
    "print (add(2)) # 2+5+10 = 17"
   ]
  },
  {
   "cell_type": "markdown",
   "metadata": {},
   "source": [
    "### **Arbitrary Arguments:**\n",
    "\n",
    " Arbitrary arguments are also known as variable-length arguments. If we don’t know the number of arguments needed for the function in advance, we can use arbitrary arguments. \n",
    " \n",
    "#### **Arbitrary Positional Arguments:**\n",
    " You can use **`*args`** to pass a variable number of non-keyword arguments to a function. These arguments are collected into a tuple. See the example below to understand this better."
   ]
  },
  {
   "cell_type": "code",
   "execution_count": 15,
   "metadata": {},
   "outputs": [
    {
     "name": "stdout",
     "output_type": "stream",
     "text": [
      "15\n"
     ]
    }
   ],
   "source": [
    "# Example of arbitrary positional arguments\n",
    "def add(*args):\n",
    "    result = 0\n",
    "    for num in args:\n",
    "        result += num\n",
    "    return result\n",
    "\n",
    "print(add(1, 2, 3, 4, 5))"
   ]
  },
  {
   "cell_type": "markdown",
   "metadata": {},
   "source": [
    "#### **Arbitrary Keyword Arguments:**\n",
    "\n",
    "Similar to arbitrary positional arguments, the **`**kwargs`** collects all the arbitrary keyword arguments into a new dictionary. See the example below to understand this better."
   ]
  },
  {
   "cell_type": "code",
   "execution_count": 20,
   "metadata": {},
   "outputs": [
    {
     "name": "stdout",
     "output_type": "stream",
     "text": [
      "('number', 5)\n",
      "('color', 'blue')\n",
      "('game', 'cod')\n",
      "('fruit', 'apple')\n",
      "('age', 20)\n"
     ]
    }
   ],
   "source": [
    "# Example of arbitrary keyword arguments\n",
    "def fn(**kwargs):\n",
    "    for i in kwargs.items():\n",
    "        print (i)\n",
    "fn(number=5,color=\"blue\",game=\"cod\", fruit=\"apple\",age=20)"
   ]
  },
  {
   "cell_type": "markdown",
   "metadata": {},
   "source": [
    "## **Special Parameters:**\n",
    "\n",
    "According to Python Documentation:\n",
    "\n",
    "“By default, arguments may be passed to a Python function either by position or explicitly by keyword. For readability and performance, it makes sense to restrict the way arguments can be passed so that a developer need only look at the function definition to determine if items are passed by position, by position or keyword, or by keyword.”\n",
    "\n",
    "As a result, a function definition may look like this:\n",
    "```\n",
    "def fname(pos1, pos2, /, pos_or_kwd, *, kwd1, kwd2)\n",
    "          Positional-    Positional     Keyword-Only\n",
    "          Only           or Keyword\n",
    "```\n",
    "\n",
    "Where **`/`** and **`*`** are optional. If used, these symbols indicate the kind of parameter by how the arguments may be passed to the function, including: \n",
    "\n",
    "1. Positional-only arguments.\n",
    "2. Positional or Keyword arguments.\n",
    "3. Keyword-only arguments."
   ]
  },
  {
   "cell_type": "markdown",
   "metadata": {},
   "source": [
    "### **1. Positional-Only Arguments:**\n",
    "\n",
    "Positional-only parameters are placed before a **`/`** (forward-slash) in the function definition. The **`/`** is used to logically separate the positional-only parameters from the rest of the parameters. Parameters following the **`/`** may be positional-or-keyword or keyword-only."
   ]
  },
  {
   "cell_type": "code",
   "execution_count": 23,
   "metadata": {},
   "outputs": [
    {
     "name": "stdout",
     "output_type": "stream",
     "text": [
      "18\n",
      "10\n"
     ]
    },
    {
     "ename": "TypeError",
     "evalue": "add() got some positional-only arguments passed as keyword arguments: 'b'",
     "output_type": "error",
     "traceback": [
      "\u001b[0;31m---------------------------------------------------------------------------\u001b[0m",
      "\u001b[0;31mTypeError\u001b[0m                                 Traceback (most recent call last)",
      "\u001b[1;32m/home/umer/GitHub/revisiting-python/9_Functions.ipynb Cell 25\u001b[0m line \u001b[0;36m9\n\u001b[1;32m      <a href='vscode-notebook-cell://wsl%2Bubuntu/home/umer/GitHub/revisiting-python/9_Functions.ipynb#X34sdnNjb2RlLXJlbW90ZQ%3D%3D?line=4'>5</a>\u001b[0m \u001b[39mprint\u001b[39m (add(\u001b[39m3\u001b[39m,\u001b[39m4\u001b[39m,c\u001b[39m=\u001b[39m\u001b[39m1\u001b[39m,d\u001b[39m=\u001b[39m\u001b[39m2\u001b[39m)) \u001b[39m# Positional and keyword arguments\u001b[39;00m\n\u001b[1;32m      <a href='vscode-notebook-cell://wsl%2Bubuntu/home/umer/GitHub/revisiting-python/9_Functions.ipynb#X34sdnNjb2RlLXJlbW90ZQ%3D%3D?line=6'>7</a>\u001b[0m \u001b[39m# If we specify keyword arguments for positional only arguments, it will raise TypeError.\u001b[39;00m\n\u001b[0;32m----> <a href='vscode-notebook-cell://wsl%2Bubuntu/home/umer/GitHub/revisiting-python/9_Functions.ipynb#X34sdnNjb2RlLXJlbW90ZQ%3D%3D?line=8'>9</a>\u001b[0m \u001b[39mprint\u001b[39m (add(\u001b[39m3\u001b[39;49m,b\u001b[39m=\u001b[39;49m\u001b[39m4\u001b[39;49m,c\u001b[39m=\u001b[39;49m\u001b[39m1\u001b[39;49m,d\u001b[39m=\u001b[39;49m\u001b[39m2\u001b[39;49m)) \u001b[39m# TypeError: add() got some positional-only arguments passed as keyword arguments: 'b'\u001b[39;00m\n",
      "\u001b[0;31mTypeError\u001b[0m: add() got some positional-only arguments passed as keyword arguments: 'b'"
     ]
    }
   ],
   "source": [
    "# Example for positional-only arguments\n",
    "def add(a,b,/,c,d):\n",
    "    return a+b+c+d\n",
    "\n",
    "print (add(3,4,5,6)) # Positional arguments\n",
    "print (add(3,4,c=1,d=2)) # Positional and keyword arguments\n",
    "\n",
    "# If we specify keyword arguments for positional only arguments, it will raise TypeError.\n",
    "\n",
    "print (add(3,b=4,c=1,d=2)) # TypeError: add() got some positional-only arguments passed as keyword arguments: 'b'"
   ]
  },
  {
   "cell_type": "markdown",
   "metadata": {},
   "source": [
    "### **2. Positional Or Keyword Arguments:**\n",
    "\n",
    "If **`/`** and **`*`** are not present in the function definition, arguments may be passed to a function by position and/or by keyword."
   ]
  },
  {
   "cell_type": "code",
   "execution_count": 25,
   "metadata": {},
   "outputs": [
    {
     "name": "stdout",
     "output_type": "stream",
     "text": [
      "12\n",
      "6\n"
     ]
    }
   ],
   "source": [
    "# Example for positional or keyword arguments\n",
    "def add(a,b,c):\n",
    "    return a+b+c\n",
    "\n",
    "print (add(3,4,5)) # Positional arguments\n",
    "print (add(3,c=1,b=2)) # Positional and Keyword arguments"
   ]
  },
  {
   "cell_type": "markdown",
   "metadata": {},
   "source": [
    "### **3. Keyword-Only Arguments:**\n",
    "\n",
    "To mark parameters as keyword-only, place an `*` in the arguments list just before the first keyword-only parameter. See the example below to understand this better."
   ]
  },
  {
   "cell_type": "code",
   "execution_count": 24,
   "metadata": {},
   "outputs": [
    {
     "name": "stdout",
     "output_type": "stream",
     "text": [
      "10\n"
     ]
    },
    {
     "ename": "TypeError",
     "evalue": "add() takes 2 positional arguments but 3 positional arguments (and 1 keyword-only argument) were given",
     "output_type": "error",
     "traceback": [
      "\u001b[0;31m---------------------------------------------------------------------------\u001b[0m",
      "\u001b[0;31mTypeError\u001b[0m                                 Traceback (most recent call last)",
      "\u001b[1;32m/home/umer/GitHub/revisiting-python/9_Functions.ipynb Cell 27\u001b[0m line \u001b[0;36m1\n\u001b[1;32m      <a href='vscode-notebook-cell://wsl%2Bubuntu/home/umer/GitHub/revisiting-python/9_Functions.ipynb#X41sdnNjb2RlLXJlbW90ZQ%3D%3D?line=8'>9</a>\u001b[0m \u001b[39mdef\u001b[39;00m \u001b[39madd\u001b[39m(a,b,\u001b[39m*\u001b[39m,c,d):\n\u001b[1;32m     <a href='vscode-notebook-cell://wsl%2Bubuntu/home/umer/GitHub/revisiting-python/9_Functions.ipynb#X41sdnNjb2RlLXJlbW90ZQ%3D%3D?line=9'>10</a>\u001b[0m     \u001b[39mreturn\u001b[39;00m a\u001b[39m+\u001b[39mb\u001b[39m+\u001b[39mc\u001b[39m+\u001b[39md\n\u001b[0;32m---> <a href='vscode-notebook-cell://wsl%2Bubuntu/home/umer/GitHub/revisiting-python/9_Functions.ipynb#X41sdnNjb2RlLXJlbW90ZQ%3D%3D?line=11'>12</a>\u001b[0m \u001b[39mprint\u001b[39m (add(\u001b[39m3\u001b[39;49m,\u001b[39m4\u001b[39;49m,\u001b[39m1\u001b[39;49m,d\u001b[39m=\u001b[39;49m\u001b[39m2\u001b[39;49m))\n",
      "\u001b[0;31mTypeError\u001b[0m: add() takes 2 positional arguments but 3 positional arguments (and 1 keyword-only argument) were given"
     ]
    }
   ],
   "source": [
    "# Example for keyword-only arguments\n",
    "def add(a,b,*,c,d):\n",
    "    return a+b+c+d\n",
    "\n",
    "print (add(3,4,c=1,d=2)) # Positional and keyword arguments\n",
    "\n",
    "# If we specify positional arguments for keyword-only arguments it will raise TypeError.\n",
    "\n",
    "def add(a,b,*,c,d):\n",
    "    return a+b+c+d\n",
    "\n",
    "print (add(3,4,1,d=2)) # TypeError: add() takes 2 positional arguments but 3 positional arguments (and 1 keyword-only argument) were given"
   ]
  },
  {
   "cell_type": "markdown",
   "metadata": {},
   "source": [
    "### **Another Example:**\n",
    "\n",
    "All three calling conventions are used in the same function. In the example below, the function add contains all three arguments:\n"
   ]
  },
  {
   "cell_type": "code",
   "execution_count": 32,
   "metadata": {},
   "outputs": [
    {
     "name": "stdout",
     "output_type": "stream",
     "text": [
      "10\n",
      "10\n"
     ]
    },
    {
     "ename": "TypeError",
     "evalue": "add() got some positional-only arguments passed as keyword arguments: 'a, b'",
     "output_type": "error",
     "traceback": [
      "\u001b[0;31m---------------------------------------------------------------------------\u001b[0m",
      "\u001b[0;31mTypeError\u001b[0m                                 Traceback (most recent call last)",
      "\u001b[1;32m/home/umer/GitHub/revisiting-python/9_Functions.ipynb Cell 30\u001b[0m line \u001b[0;36m1\n\u001b[1;32m     <a href='vscode-notebook-cell://wsl%2Bubuntu/home/umer/GitHub/revisiting-python/9_Functions.ipynb#X43sdnNjb2RlLXJlbW90ZQ%3D%3D?line=11'>12</a>\u001b[0m \u001b[39mprint\u001b[39m(add(\u001b[39m1\u001b[39m, \u001b[39m2\u001b[39m, \u001b[39m3\u001b[39m, d\u001b[39m=\u001b[39m\u001b[39m4\u001b[39m)) \u001b[39m# c as positional argument\u001b[39;00m\n\u001b[1;32m     <a href='vscode-notebook-cell://wsl%2Bubuntu/home/umer/GitHub/revisiting-python/9_Functions.ipynb#X43sdnNjb2RlLXJlbW90ZQ%3D%3D?line=12'>13</a>\u001b[0m \u001b[39mprint\u001b[39m(add(\u001b[39m1\u001b[39m, \u001b[39m2\u001b[39m, c\u001b[39m=\u001b[39m\u001b[39m3\u001b[39m, d\u001b[39m=\u001b[39m\u001b[39m4\u001b[39m)) \u001b[39m# c as keyword argument\u001b[39;00m\n\u001b[0;32m---> <a href='vscode-notebook-cell://wsl%2Bubuntu/home/umer/GitHub/revisiting-python/9_Functions.ipynb#X43sdnNjb2RlLXJlbW90ZQ%3D%3D?line=13'>14</a>\u001b[0m \u001b[39mprint\u001b[39m(add(a\u001b[39m=\u001b[39;49m\u001b[39m1\u001b[39;49m, b\u001b[39m=\u001b[39;49m\u001b[39m2\u001b[39;49m, c\u001b[39m=\u001b[39;49m\u001b[39m3\u001b[39;49m, d\u001b[39m=\u001b[39;49m\u001b[39m4\u001b[39;49m)) \u001b[39m# TypeError: add() got some positional-only arguments passed as keyword arguments: 'a, b'\u001b[39;00m\n\u001b[1;32m     <a href='vscode-notebook-cell://wsl%2Bubuntu/home/umer/GitHub/revisiting-python/9_Functions.ipynb#X43sdnNjb2RlLXJlbW90ZQ%3D%3D?line=14'>15</a>\u001b[0m \u001b[39mprint\u001b[39m(add(\u001b[39m1\u001b[39m, \u001b[39m2\u001b[39m, \u001b[39m3\u001b[39m, \u001b[39m4\u001b[39m)) \u001b[39m# TypeError: add() takes 3 positional arguments but 4 were given\u001b[39;00m\n",
      "\u001b[0;31mTypeError\u001b[0m: add() got some positional-only arguments passed as keyword arguments: 'a, b'"
     ]
    }
   ],
   "source": [
    "def add(a, b, /, c, *, d):\n",
    "    \"\"\"\n",
    "    a,b: Positional only arguments.\n",
    "    c: Positional or keyword arguments.\n",
    "    d: Keyword-only arguments.\n",
    "    \"\"\"\n",
    "    return a + b + c + d\n",
    "\n",
    "print(add(1, 2, 3, d=4)) # c as positional argument\n",
    "print(add(1, 2, c=3, d=4)) # c as keyword argument\n",
    "print(add(a=1, b=2, c=3, d=4)) # TypeError: add() got some positional-only arguments passed as keyword arguments: 'a, b'\n",
    "print(add(1, 2, 3, 4)) # TypeError: add() takes 3 positional arguments but 4 were given"
   ]
  },
  {
   "cell_type": "markdown",
   "metadata": {},
   "source": [
    "### **Important Points To Remember For Special Parameters:**\n",
    "\n",
    "Below are some important points to remember for special parameters in Python:\n",
    "\n",
    "1. Use **positional-only** parameters if you want the name of the parameters to not be available to the user. This is useful when parameter names have no real meaning.\n",
    "2. Use **positional-only** parameters if you want to enforce the order of the arguments when the function is called.\n",
    "3. Use **keyword-only** parameters when names have meaning and the function definition is more understandable by being explicit with names.\n",
    "4. Use **keyword-only** parameters when you want to prevent users from relying on the position of the argument being passed.   "
   ]
  },
  {
   "cell_type": "markdown",
   "metadata": {},
   "source": [
    "## **Lambda Functions:**\n",
    "\n",
    "Lambda functions, also known as anonymous functions, are a way to create small, unnamed functions in Python. They are typically used for simple operations and are defined using the **`lambda`** keyword. Lambda functions are often used in situations where a small, simple function is needed as an argument to another function, such as **`map()`** or **`filter()`**.\n",
    "\n",
    "\n",
    "\n",
    "The syntax of a lambda function is as follows:\n",
    "```\n",
    "lambda arguments: expression\n",
    "```"
   ]
  },
  {
   "cell_type": "code",
   "execution_count": 34,
   "metadata": {},
   "outputs": [
    {
     "name": "stdout",
     "output_type": "stream",
     "text": [
      "10\n"
     ]
    }
   ],
   "source": [
    "# Here's an example of a lambda function that doubles a number:\n",
    "double = lambda x: x * 2\n",
    "print(double(5))  # Output: 10"
   ]
  },
  {
   "cell_type": "markdown",
   "metadata": {},
   "source": [
    "## **Recursion:**\n",
    "\n",
    "Recursion is a technique in which a function calls itself in order to solve a problem. A recursive function is defined by breaking down a problem into smaller instances of the same problem. The recursion continues until a base case is reached, at which point the function starts returning values, \"unwinding\" the stack of recursive calls.\n",
    "\n",
    "Here's an example of a recursive function to calculate the factorial of a number:"
   ]
  },
  {
   "cell_type": "code",
   "execution_count": 38,
   "metadata": {},
   "outputs": [
    {
     "name": "stdout",
     "output_type": "stream",
     "text": [
      "120\n"
     ]
    }
   ],
   "source": [
    "def factorial(n):\n",
    "    if n == 0:\n",
    "        return 1\n",
    "    else:\n",
    "        return n * factorial(n - 1)\n",
    "\n",
    "result = factorial(5)  # Calculates 5!\n",
    "print(result)  # Output: 120"
   ]
  },
  {
   "cell_type": "markdown",
   "metadata": {},
   "source": [
    "In this example, the **`factorial()`** function calls itself with a smaller value **`(n - 1)`** until **`n`** reaches the base case of **`0`**. The results are then multiplied together and returned, \"unwinding\" the recursion.\n",
    "\n",
    "## **Function Arguments and Parameter Passing:**\n",
    "\n",
    "Python uses a mechanism called **\"call by object reference\"** or **\"call by sharing\"** when passing arguments to functions. This means that when you pass an argument to a function, you are passing a reference to the object, not a copy of the object itself.\n",
    "\n",
    "Here's how it works:\n",
    "\n",
    "**Immutable Objects (e.g., numbers, strings, tuples):** When you pass an immutable object to a function and modify it within the function, a new object is created, and the original object remains unchanged outside the function. This is because immutable objects cannot be changed in place.\n",
    "\n",
    "**Mutable Objects:**\n",
    "\n",
    "- **Lists:** Ordered, changeable sequences.\n",
    "- **Dictionaries:** Key-value pairs.\n",
    "- **Sets:** Unordered, unique elements.\n",
    "- **Byte Arrays:** Mutable byte sequences.\n",
    "- **Custom Objects:** Mutable by default."
   ]
  },
  {
   "cell_type": "code",
   "execution_count": 39,
   "metadata": {},
   "outputs": [
    {
     "name": "stdout",
     "output_type": "stream",
     "text": [
      "Hello\n"
     ]
    }
   ],
   "source": [
    "# Example\n",
    "def modify_string(s):\n",
    "    s += \" World\"\n",
    "\n",
    "my_string = \"Hello\"\n",
    "modify_string(my_string) # my_string won't be modified\n",
    "print(my_string)  # Output: Hello"
   ]
  },
  {
   "cell_type": "markdown",
   "metadata": {},
   "source": [
    "**Mutable Objects (e.g., lists, dictionaries):** When you pass a mutable object to a function and modify it within the function, the original object is modified outside the function as well because both the function and the calling code reference the same object.\n",
    "\n",
    "**Immutable Objects:**\n",
    "\n",
    "- **Integers:** Immutable whole numbers.\n",
    "- **Floats:** Immutable decimal numbers.\n",
    "- **Strings:** Immutable sequences of characters.\n",
    "- **Tuples:** Ordered, unchangeable sequences.\n",
    "- **Namedtuples:** Immutable named tuples.\n",
    "- **Frozen Sets:** Immutable sets."
   ]
  },
  {
   "cell_type": "code",
   "execution_count": 43,
   "metadata": {},
   "outputs": [
    {
     "name": "stdout",
     "output_type": "stream",
     "text": [
      "[1, 2, 3, 4]\n"
     ]
    }
   ],
   "source": [
    "# Example\n",
    "def append_element(lst):\n",
    "    lst.append(3)\n",
    "    lst.append(4)\n",
    "\n",
    "my_list = [1, 2]\n",
    "append_element(my_list) # my_list will be modified\n",
    "print(my_list)  # Output: [1, 2, 3, 4]"
   ]
  },
  {
   "cell_type": "markdown",
   "metadata": {},
   "source": [
    "In summary, whether you see changes made to objects outside a function depends on whether the object is mutable or immutable. **Immutable objects remain unchanged, while changes to mutable objects are reflected outside the function.**"
   ]
  }
 ],
 "metadata": {
  "kernelspec": {
   "display_name": "base",
   "language": "python",
   "name": "python3"
  },
  "language_info": {
   "codemirror_mode": {
    "name": "ipython",
    "version": 3
   },
   "file_extension": ".py",
   "mimetype": "text/x-python",
   "name": "python",
   "nbconvert_exporter": "python",
   "pygments_lexer": "ipython3",
   "version": "3.11.5"
  }
 },
 "nbformat": 4,
 "nbformat_minor": 2
}
