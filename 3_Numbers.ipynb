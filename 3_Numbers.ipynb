{
 "cells": [
  {
   "attachments": {},
   "cell_type": "markdown",
   "metadata": {},
   "source": [
    "# **Numbers**\n",
    "In Python, numbers are a fundamental data type used to represent numeric values. Python supports various types of numbers, including integers, floating-point numbers, and complex numbers."
   ]
  },
  {
   "attachments": {},
   "cell_type": "markdown",
   "metadata": {},
   "source": [
    "## **Types Of Numbers**\n",
    "Here's an overview of numbers in Python:"
   ]
  },
  {
   "attachments": {},
   "cell_type": "markdown",
   "metadata": {},
   "source": [
    "### **Integers (int):**\n",
    "Integers are whole numbers without a fractional part. They can be positive or negative, and Python automatically handles integer arithmetic. Integers have unlimited precision, which means they can represent very large or very small numbers without any issues."
   ]
  },
  {
   "cell_type": "code",
   "execution_count": 1,
   "metadata": {},
   "outputs": [
    {
     "name": "stdout",
     "output_type": "stream",
     "text": [
      "10 -5\n"
     ]
    }
   ],
   "source": [
    "x = 10\n",
    "y = -5\n",
    "print(x, y)"
   ]
  },
  {
   "attachments": {},
   "cell_type": "markdown",
   "metadata": {},
   "source": [
    "### **Floating-Point Numbers (float):**\n",
    "Floating-point numbers are numbers with a fractional part. They are represented using the floating-point format and can be written with or without the decimal point. Python supports scientific notation for floating-point numbers as well.\n"
   ]
  },
  {
   "cell_type": "code",
   "execution_count": 2,
   "metadata": {},
   "outputs": [
    {
     "name": "stdout",
     "output_type": "stream",
     "text": [
      "3.141592653589793 -0.25 2500.0\n",
      "3.14\n"
     ]
    }
   ],
   "source": [
    "a = 3.141592653589793\n",
    "b = -0.25\n",
    "c = 2.5e3  # 2.5 * 10^3 = 2500.0\n",
    "print(a, b, c)\n",
    "# We can use the built-in function round() to round a number to a given precision.\n",
    "print(round(a, 2)) # 3.14"
   ]
  },
  {
   "attachments": {},
   "cell_type": "markdown",
   "metadata": {},
   "source": [
    "#### **Important Note Regarding Floating-Point Numbers**\n",
    "It's important to keep in mind that floating-point numbers have some inherent limitations due to how they are represented in binary format. This can sometimes lead to small inaccuracies in certain calculations. For precise arithmetic involving decimals, you may want to use the decimal module in Python."
   ]
  },
  {
   "attachments": {},
   "cell_type": "markdown",
   "metadata": {},
   "source": [
    "### **Complex Numbers (complex):**\n",
    "Complex numbers have a real part and an imaginary part represented as real + imagj, where j denotes the square root of -1. Complex numbers are used for mathematical operations involving square roots of negative numbers."
   ]
  },
  {
   "cell_type": "code",
   "execution_count": 3,
   "metadata": {},
   "outputs": [
    {
     "name": "stdout",
     "output_type": "stream",
     "text": [
      "3.0\n",
      "4.0\n"
     ]
    }
   ],
   "source": [
    "z = 3 + 4j\n",
    "print(z.real) # 3.0 is the real part\n",
    "print(z.imag) # 4.0 is the imaginary part"
   ]
  },
  {
   "attachments": {},
   "cell_type": "markdown",
   "metadata": {},
   "source": [
    "## **Mathematical Operations**\n",
    "Python provides various arithmetic and mathematical operations that you can perform on numbers. These operations include addition, subtraction, multiplication, division, exponentiation, modulus, and more. For example:"
   ]
  },
  {
   "cell_type": "code",
   "execution_count": 4,
   "metadata": {},
   "outputs": [
    {
     "name": "stdout",
     "output_type": "stream",
     "text": [
      "15\n",
      "5\n",
      "50\n",
      "2.0\n",
      "0\n",
      "100\n"
     ]
    }
   ],
   "source": [
    "x = 10\n",
    "y = 5\n",
    "\n",
    "# Arithmetic operations\n",
    "print(x + y)  # Addition: 15\n",
    "print(x - y)  # Subtraction: 5\n",
    "print(x * y)  # Multiplication: 50\n",
    "print(x / y)  # Division: 2.0 (result is a float)\n",
    "\n",
    "# Modulus (remainder)\n",
    "print(x % y)  # Modulus: 0 (there is no remainder)\n",
    "\n",
    "# Exponentiation\n",
    "print(x ** 2)  # Exponentiation: 100"
   ]
  },
  {
   "attachments": {},
   "cell_type": "markdown",
   "metadata": {},
   "source": [
    "## **Exercises For Numbers**"
   ]
  },
  {
   "attachments": {},
   "cell_type": "markdown",
   "metadata": {},
   "source": [
    "### **Exercise #1**\n",
    "You have a football field that is 92 meter long and 48.8 meter wide. Find out total area using python and print it."
   ]
  },
  {
   "cell_type": "code",
   "execution_count": 5,
   "metadata": {},
   "outputs": [
    {
     "name": "stdout",
     "output_type": "stream",
     "text": [
      "The area of the football field is: 4489.6 square meter.\n"
     ]
    }
   ],
   "source": [
    "# As we know that area of rectangle is length * breadth\n",
    "length = 92\n",
    "width = 48.8\n",
    "area = length * width\n",
    "print(\"The area of the football field is:\", round(area, 2), \"square meter.\")"
   ]
  },
  {
   "attachments": {},
   "cell_type": "markdown",
   "metadata": {},
   "source": [
    "### **Exercise #2**\n",
    "You bought 9 packets of potato chips from a store. Each packet costs 1.49 dollar and you gave shopkeeper 20 dollar. Find out using python, how many dollars is the shopkeeper going to give you back?"
   ]
  },
  {
   "cell_type": "code",
   "execution_count": 6,
   "metadata": {},
   "outputs": [
    {
     "name": "stdout",
     "output_type": "stream",
     "text": [
      "The change is: 6.59 dollars.\n"
     ]
    }
   ],
   "source": [
    "chips = 9\n",
    "cost = 1.49\n",
    "total_cost = chips * cost\n",
    "given_money = 20\n",
    "change = given_money - total_cost\n",
    "print(\"The change is:\", round(change, 2), \"dollars.\")"
   ]
  },
  {
   "attachments": {},
   "cell_type": "markdown",
   "metadata": {},
   "source": [
    "### **Exercise #3**\n",
    "You want to replace tiles in your bathroom which is exactly square and 5.5 feet is its length. If tiles cost 500 rs per square feet, how much will be the total cost to replace all tiles. Calculate and print the cost using python (Hint: Use power operator ** to find area of a square)"
   ]
  },
  {
   "cell_type": "code",
   "execution_count": 7,
   "metadata": {},
   "outputs": [
    {
     "name": "stdout",
     "output_type": "stream",
     "text": [
      "The area of the square is: 30.25 square feet.\n",
      "The total cost is: 15125.0 rupees.\n"
     ]
    }
   ],
   "source": [
    "cost = 500\n",
    "one_side = 5.5\n",
    "area = one_side ** 2 # ** is the exponentiation operator, 2**3 = 8\n",
    "print(\"The area of the square is:\", round(area, 2), \"square feet.\")\n",
    "total_cost = cost * area\n",
    "print(\"The total cost is:\", round(total_cost, 2), \"rupees.\")"
   ]
  },
  {
   "attachments": {},
   "cell_type": "markdown",
   "metadata": {},
   "source": [
    "### **Exercise #4**\n",
    "Print binary representation of number 17."
   ]
  },
  {
   "cell_type": "code",
   "execution_count": 8,
   "metadata": {},
   "outputs": [
    {
     "name": "stdout",
     "output_type": "stream",
     "text": [
      "The binary representation of number 17 is: 0b10001\n"
     ]
    }
   ],
   "source": [
    "int_num = 17\n",
    "bin_num = bin(int_num)\n",
    "print(\"The binary representation of number 17 is:\", bin_num) # 0b10001"
   ]
  },
  {
   "attachments": {},
   "cell_type": "markdown",
   "metadata": {},
   "source": [
    "### **Exercise #5**\n",
    "Write a Python program that takes the radius of a circle as user input and calculates both the area and circumference of the circle. Use the following formulas:\n",
    "-   Circle Area (A) = π * radius^2\n",
    "-   Circumference (C) = 2 * π * radius"
   ]
  },
  {
   "cell_type": "code",
   "execution_count": 9,
   "metadata": {},
   "outputs": [
    {
     "name": "stdout",
     "output_type": "stream",
     "text": [
      "The radius of the circle is: 5.0\n",
      "The area of the circle is: 78.54\n",
      "The circumference of the circle is: 31.42\n"
     ]
    }
   ],
   "source": [
    "# don't worry about the input() function, we will discuss it later\n",
    "radius = float(input(\"Enter the radius of the circle in float or decimal form: \"))\n",
    "pi = 3.141593\n",
    "area = pi * radius ** 2\n",
    "circumference = 2 * pi * radius\n",
    "print(\"The radius of the circle is:\", round(radius, 2))\n",
    "print(\"The area of the circle is:\", round(area, 2))\n",
    "print(\"The circumference of the circle is:\", round(circumference, 2))\n"
   ]
  }
 ],
 "metadata": {
  "kernelspec": {
   "display_name": "py310",
   "language": "python",
   "name": "python3"
  },
  "language_info": {
   "codemirror_mode": {
    "name": "ipython",
    "version": 3
   },
   "file_extension": ".py",
   "mimetype": "text/x-python",
   "name": "python",
   "nbconvert_exporter": "python",
   "pygments_lexer": "ipython3",
   "version": "3.10.12"
  },
  "orig_nbformat": 4
 },
 "nbformat": 4,
 "nbformat_minor": 2
}
